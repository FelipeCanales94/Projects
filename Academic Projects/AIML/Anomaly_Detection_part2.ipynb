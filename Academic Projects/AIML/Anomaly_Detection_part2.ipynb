{
 "cells": [
  {
   "cell_type": "code",
   "execution_count": 1,
   "metadata": {
    "colab": {},
    "colab_type": "code",
    "id": "V_LaQ7sdG-s3"
   },
   "outputs": [
    {
     "data": {
      "text/plain": [
       "'2.3.0'"
      ]
     },
     "execution_count": 1,
     "metadata": {},
     "output_type": "execute_result"
    }
   ],
   "source": [
    "import os\n",
    "import pandas as pd\n",
    "import numpy as np\n",
    "from sklearn import preprocessing\n",
    "from matplotlib import pyplot as plt\n",
    "from matplotlib import dates as md\n",
    "import seaborn as sns\n",
    "sns.set(color_codes=True)\n",
    "import matplotlib.pyplot as plt\n",
    "%matplotlib inline\n",
    "\n",
    "from numpy.random import seed\n",
    "import tensorflow as tf\n",
    "from datetime import datetime\n",
    "\n",
    "from tensorflow.keras import layers\n",
    "from tensorflow.keras.layers import Input, Dropout\n",
    "from tensorflow.keras.layers import Dense \n",
    "from tensorflow.keras.models import Model, Sequential, load_model\n",
    "from tensorflow.keras import regularizers, optimizers\n",
    "from tensorflow.keras.models import model_from_json\n",
    "\n",
    "tf.__version__"
   ]
  },
  {
   "cell_type": "code",
   "execution_count": 58,
   "metadata": {
    "colab": {
     "base_uri": "https://localhost:8080/",
     "height": 204
    },
    "colab_type": "code",
    "id": "viI4Gc9GAUJ0",
    "outputId": "363afd23-fa8d-43cf-9a20-d2e699ed6215"
   },
   "outputs": [
    {
     "data": {
      "text/html": [
       "<div>\n",
       "<style scoped>\n",
       "    .dataframe tbody tr th:only-of-type {\n",
       "        vertical-align: middle;\n",
       "    }\n",
       "\n",
       "    .dataframe tbody tr th {\n",
       "        vertical-align: top;\n",
       "    }\n",
       "\n",
       "    .dataframe thead th {\n",
       "        text-align: right;\n",
       "    }\n",
       "</style>\n",
       "<table border=\"1\" class=\"dataframe\">\n",
       "  <thead>\n",
       "    <tr style=\"text-align: right;\">\n",
       "      <th></th>\n",
       "      <th>timestamp</th>\n",
       "      <th>value</th>\n",
       "    </tr>\n",
       "  </thead>\n",
       "  <tbody>\n",
       "    <tr>\n",
       "      <th>0</th>\n",
       "      <td>2015-02-26 21:42:53</td>\n",
       "      <td>53</td>\n",
       "    </tr>\n",
       "    <tr>\n",
       "      <th>1</th>\n",
       "      <td>2015-02-26 21:47:53</td>\n",
       "      <td>64</td>\n",
       "    </tr>\n",
       "    <tr>\n",
       "      <th>2</th>\n",
       "      <td>2015-02-26 21:52:53</td>\n",
       "      <td>49</td>\n",
       "    </tr>\n",
       "    <tr>\n",
       "      <th>3</th>\n",
       "      <td>2015-02-26 21:57:53</td>\n",
       "      <td>48</td>\n",
       "    </tr>\n",
       "    <tr>\n",
       "      <th>4</th>\n",
       "      <td>2015-02-26 22:02:53</td>\n",
       "      <td>22</td>\n",
       "    </tr>\n",
       "  </tbody>\n",
       "</table>\n",
       "</div>"
      ],
      "text/plain": [
       "             timestamp  value\n",
       "0  2015-02-26 21:42:53     53\n",
       "1  2015-02-26 21:47:53     64\n",
       "2  2015-02-26 21:52:53     49\n",
       "3  2015-02-26 21:57:53     48\n",
       "4  2015-02-26 22:02:53     22"
      ]
     },
     "execution_count": 58,
     "metadata": {},
     "output_type": "execute_result"
    }
   ],
   "source": [
    "url = 'https://raw.githubusercontent.com/numenta/NAB/master/data/realTweets/Twitter_volume_FB.csv'\n",
    "fb_df = pd.read_csv(url, error_bad_lines=False)\n",
    "fb_df.head(5)"
   ]
  },
  {
   "cell_type": "code",
   "execution_count": 59,
   "metadata": {
    "colab": {
     "base_uri": "https://localhost:8080/",
     "height": 297
    },
    "colab_type": "code",
    "id": "iAi3p_2sDrqu",
    "outputId": "c7e8d763-6a0b-46b1-c465-4dd96b8e49fb"
   },
   "outputs": [
    {
     "data": {
      "text/html": [
       "<div>\n",
       "<style scoped>\n",
       "    .dataframe tbody tr th:only-of-type {\n",
       "        vertical-align: middle;\n",
       "    }\n",
       "\n",
       "    .dataframe tbody tr th {\n",
       "        vertical-align: top;\n",
       "    }\n",
       "\n",
       "    .dataframe thead th {\n",
       "        text-align: right;\n",
       "    }\n",
       "</style>\n",
       "<table border=\"1\" class=\"dataframe\">\n",
       "  <thead>\n",
       "    <tr style=\"text-align: right;\">\n",
       "      <th></th>\n",
       "      <th>value</th>\n",
       "    </tr>\n",
       "  </thead>\n",
       "  <tbody>\n",
       "    <tr>\n",
       "      <th>count</th>\n",
       "      <td>15833.000000</td>\n",
       "    </tr>\n",
       "    <tr>\n",
       "      <th>mean</th>\n",
       "      <td>17.811280</td>\n",
       "    </tr>\n",
       "    <tr>\n",
       "      <th>std</th>\n",
       "      <td>19.740055</td>\n",
       "    </tr>\n",
       "    <tr>\n",
       "      <th>min</th>\n",
       "      <td>0.000000</td>\n",
       "    </tr>\n",
       "    <tr>\n",
       "      <th>25%</th>\n",
       "      <td>9.000000</td>\n",
       "    </tr>\n",
       "    <tr>\n",
       "      <th>50%</th>\n",
       "      <td>14.000000</td>\n",
       "    </tr>\n",
       "    <tr>\n",
       "      <th>75%</th>\n",
       "      <td>22.000000</td>\n",
       "    </tr>\n",
       "    <tr>\n",
       "      <th>max</th>\n",
       "      <td>1258.000000</td>\n",
       "    </tr>\n",
       "  </tbody>\n",
       "</table>\n",
       "</div>"
      ],
      "text/plain": [
       "              value\n",
       "count  15833.000000\n",
       "mean      17.811280\n",
       "std       19.740055\n",
       "min        0.000000\n",
       "25%        9.000000\n",
       "50%       14.000000\n",
       "75%       22.000000\n",
       "max     1258.000000"
      ]
     },
     "execution_count": 59,
     "metadata": {},
     "output_type": "execute_result"
    }
   ],
   "source": [
    "fb_df.describe()"
   ]
  },
  {
   "cell_type": "markdown",
   "metadata": {
    "colab_type": "text",
    "id": "THf-xBrhyv6K"
   },
   "source": [
    "# **AUTOENCODER MODEL 1 FOR ANOMALY DETECTION**"
   ]
  },
  {
   "cell_type": "code",
   "execution_count": 51,
   "metadata": {
    "colab": {
     "base_uri": "https://localhost:8080/",
     "height": 295
    },
    "colab_type": "code",
    "id": "3nklR-A0zhR7",
    "outputId": "4ce9b23a-754a-407e-80e4-ccfa3aab58f7"
   },
   "outputs": [
    {
     "data": {
      "image/png": "[encoded data removed]",
      "text/plain": [
       "<Figure size 432x288 with 1 Axes>"
      ]
     },
     "metadata": {
      "needs_background": "light"
     },
     "output_type": "display_data"
    }
   ],
   "source": [
    "def plot_dates_values(data):\n",
    "    dates = data[\"timestamp\"].to_list()\n",
    "    values = data[\"value\"].to_list()\n",
    "    dates = [datetime.strptime(x, \"%Y-%m-%d %H:%M:%S\") for x in dates]\n",
    "    plt.subplots_adjust(bottom=0.2)\n",
    "    plt.xticks(rotation=25)\n",
    "    ax = plt.gca()\n",
    "    xfmt = md.DateFormatter(\"%Y-%m-%d %H:%M:%S\")\n",
    "    ax.xaxis.set_major_formatter(xfmt)\n",
    "    plt.plot(dates, values)\n",
    "    plt.show()\n",
    "\n",
    "plot_dates_values(fb_df)"
   ]
  },
  {
   "cell_type": "code",
   "execution_count": 60,
   "metadata": {
    "colab": {
     "base_uri": "https://localhost:8080/",
     "height": 51
    },
    "colab_type": "code",
    "id": "fhIe7ueMzoHW",
    "outputId": "21f4c39f-50a9-46e4-c950-c2b3144cac36"
   },
   "outputs": [
    {
     "name": "stdout",
     "output_type": "stream",
     "text": [
      "3106\n",
      "12727\n"
     ]
    }
   ],
   "source": [
    "#fb_df.set_index('timestamp', inplace=True)\n",
    "msk = np.random.rand(len(fb_df)) < 0.8\n",
    "dataset_train = fb_df[msk]\n",
    "dataset_test = fb_df[~msk]\n",
    "print(len(dataset_test))\n",
    "print(len(dataset_train))"
   ]
  },
  {
   "cell_type": "code",
   "execution_count": 61,
   "metadata": {},
   "outputs": [
    {
     "data": {
      "text/plain": [
       "0    2015-02-26 21:42:53\n",
       "1    2015-02-26 21:47:53\n",
       "2    2015-02-26 21:52:53\n",
       "3    2015-02-26 21:57:53\n",
       "4    2015-02-26 22:02:53\n",
       "Name: timestamp, dtype: object"
      ]
     },
     "execution_count": 61,
     "metadata": {},
     "output_type": "execute_result"
    }
   ],
   "source": [
    "fb_df['timestamp'].head()"
   ]
  },
  {
   "cell_type": "code",
   "execution_count": 6,
   "metadata": {
    "colab": {},
    "colab_type": "code",
    "id": "4jSA0t71z0zS"
   },
   "outputs": [],
   "source": [
    "def get_value_from_df(df):\n",
    "    return df.value.to_list()\n",
    "\n",
    "\n",
    "def normalize(values):\n",
    "    mean = np.mean(values)\n",
    "    values -= mean\n",
    "    std = np.std(values)\n",
    "    values /= std\n",
    "    return values, mean, std\n",
    "\n",
    "\n",
    "\n",
    "# Get the `value` column from the training abd  dataframe.\n",
    "training_value = get_value_from_df(dataset_train)\n",
    "testing_value = get_value_from_df(dataset_test)\n",
    "\n",
    "\n",
    "\n",
    "# Normalize `value` and save the mean and std we get,\n",
    "# for normalizing test data.\n",
    "training_value, training_mean, training_std = normalize(training_value)\n",
    "testing_value, testing_mean, testing_std = normalize(testing_value)"
   ]
  },
  {
   "cell_type": "code",
   "execution_count": 7,
   "metadata": {
    "colab": {
     "base_uri": "https://localhost:8080/",
     "height": 51
    },
    "colab_type": "code",
    "id": "jZ7Ip44Zz6KV",
    "outputId": "5c104b9a-446d-47da-f0f7-926359d372f1"
   },
   "outputs": [
    {
     "name": "stdout",
     "output_type": "stream",
     "text": [
      "Training input shape:  (12395, 288, 1)\n",
      "Test input shape:  (2862, 288, 1)\n"
     ]
    }
   ],
   "source": [
    "TIME_STEPS = 288\n",
    "\n",
    "\n",
    "def create_sequences(values, time_steps=TIME_STEPS):\n",
    "    output = []\n",
    "    for i in range(len(values) - time_steps):\n",
    "        output.append(values[i : (i + time_steps)])\n",
    "    # Convert 2D sequences into 3D as we will be feeding this into\n",
    "    # a convolutional layer.\n",
    "    return np.expand_dims(output, axis=2)\n",
    "\n",
    "\n",
    "x_train = create_sequences(training_value)\n",
    "print(\"Training input shape: \", x_train.shape)\n",
    "\n",
    "x_test = create_sequences(testing_value)\n",
    "print(\"Test input shape: \", x_test.shape)"
   ]
  },
  {
   "cell_type": "code",
   "execution_count": 8,
   "metadata": {
    "colab": {
     "base_uri": "https://localhost:8080/",
     "height": 391
    },
    "colab_type": "code",
    "id": "bPSRHccDz-QD",
    "outputId": "2cf35094-d4a0-4e35-dc98-e082866c6489"
   },
   "outputs": [
    {
     "name": "stdout",
     "output_type": "stream",
     "text": [
      "Model: \"sequential\"\n",
      "_________________________________________________________________\n",
      "Layer (type)                 Output Shape              Param #   \n",
      "=================================================================\n",
      "conv1d (Conv1D)              (None, 144, 32)           256       \n",
      "_________________________________________________________________\n",
      "dropout (Dropout)            (None, 144, 32)           0         \n",
      "_________________________________________________________________\n",
      "conv1d_1 (Conv1D)            (None, 72, 16)            3600      \n",
      "_________________________________________________________________\n",
      "conv1d_transpose (Conv1DTran (None, 144, 16)           1808      \n",
      "_________________________________________________________________\n",
      "dropout_1 (Dropout)          (None, 144, 16)           0         \n",
      "_________________________________________________________________\n",
      "conv1d_transpose_1 (Conv1DTr (None, 288, 32)           3616      \n",
      "_________________________________________________________________\n",
      "conv1d_transpose_2 (Conv1DTr (None, 288, 1)            225       \n",
      "=================================================================\n",
      "Total params: 9,505\n",
      "Trainable params: 9,505\n",
      "Non-trainable params: 0\n",
      "_________________________________________________________________\n"
     ]
    }
   ],
   "source": [
    "model = Sequential(\n",
    "    [\n",
    "        layers.Input(shape=(x_train.shape[1], x_train.shape[2])),\n",
    "        layers.Conv1D(\n",
    "            filters=32, kernel_size=7, padding=\"same\", strides=2, activation=\"relu\"\n",
    "        ),\n",
    "        layers.Dropout(rate=0.2),\n",
    "        layers.Conv1D(\n",
    "            filters=16, kernel_size=7, padding=\"same\", strides=2, activation=\"relu\"\n",
    "        ),\n",
    "        layers.Conv1DTranspose(\n",
    "            filters=16, kernel_size=7, padding=\"same\", strides=2, activation=\"relu\"\n",
    "        ),\n",
    "        layers.Dropout(rate=0.2),\n",
    "        layers.Conv1DTranspose(\n",
    "            filters=32, kernel_size=7, padding=\"same\", strides=2, activation=\"relu\"\n",
    "        ),\n",
    "        layers.Conv1DTranspose(filters=1, kernel_size=7, padding=\"same\"),\n",
    "    ]\n",
    ")\n",
    "model.compile(optimizer=optimizers.Adam(learning_rate=0.001), loss=\"mse\")\n",
    "model.summary()"
   ]
  },
  {
   "cell_type": "code",
   "execution_count": 9,
   "metadata": {
    "colab": {
     "base_uri": "https://localhost:8080/",
     "height": 1000
    },
    "colab_type": "code",
    "id": "LiCbhbwh_VlI",
    "outputId": "194eab98-8bcb-4b4c-baa5-7aaa367ad17e"
   },
   "outputs": [
    {
     "name": "stdout",
     "output_type": "stream",
     "text": [
      "Epoch 1/100\n",
      "88/88 [==============================] - 6s 66ms/step - loss: 0.4022 - val_loss: 0.0494\n",
      "Epoch 2/100\n",
      "88/88 [==============================] - 6s 66ms/step - loss: 0.0928 - val_loss: 0.0250\n",
      "Epoch 3/100\n",
      "88/88 [==============================] - 6s 69ms/step - loss: 0.0698 - val_loss: 0.0201\n",
      "Epoch 4/100\n",
      "88/88 [==============================] - 6s 65ms/step - loss: 0.0599 - val_loss: 0.0168\n",
      "Epoch 5/100\n",
      "88/88 [==============================] - 6s 65ms/step - loss: 0.0533 - val_loss: 0.0156\n",
      "Epoch 6/100\n",
      "88/88 [==============================] - 6s 68ms/step - loss: 0.0500 - val_loss: 0.0151\n",
      "Epoch 7/100\n",
      "88/88 [==============================] - 5s 59ms/step - loss: 0.0451 - val_loss: 0.0145\n",
      "Epoch 8/100\n",
      "88/88 [==============================] - 5s 55ms/step - loss: 0.0422 - val_loss: 0.0152\n",
      "Epoch 9/100\n",
      "88/88 [==============================] - 5s 54ms/step - loss: 0.0399 - val_loss: 0.0113\n",
      "Epoch 10/100\n",
      "88/88 [==============================] - 5s 57ms/step - loss: 0.0381 - val_loss: 0.0126\n",
      "Epoch 11/100\n",
      "88/88 [==============================] - 5s 58ms/step - loss: 0.0360 - val_loss: 0.0134\n",
      "Epoch 12/100\n",
      "88/88 [==============================] - 6s 66ms/step - loss: 0.0343 - val_loss: 0.0144\n",
      "Epoch 13/100\n",
      "88/88 [==============================] - 6s 63ms/step - loss: 0.0330 - val_loss: 0.0177\n",
      "Epoch 14/100\n",
      "88/88 [==============================] - 5s 62ms/step - loss: 0.0320 - val_loss: 0.0153\n",
      "Epoch 15/100\n",
      "88/88 [==============================] - 5s 62ms/step - loss: 0.0306 - val_loss: 0.0180\n",
      "Epoch 16/100\n",
      "88/88 [==============================] - 5s 62ms/step - loss: 0.0294 - val_loss: 0.0251\n",
      "Epoch 17/100\n",
      "88/88 [==============================] - 6s 65ms/step - loss: 0.0292 - val_loss: 0.0184\n",
      "Epoch 18/100\n",
      "88/88 [==============================] - 6s 70ms/step - loss: 0.0281 - val_loss: 0.0196\n",
      "Epoch 19/100\n",
      "88/88 [==============================] - 6s 66ms/step - loss: 0.0275 - val_loss: 0.0157\n",
      "Epoch 20/100\n",
      "88/88 [==============================] - 6s 65ms/step - loss: 0.0269 - val_loss: 0.0233\n",
      "Epoch 21/100\n",
      "88/88 [==============================] - 6s 63ms/step - loss: 0.0260 - val_loss: 0.0261\n",
      "Epoch 22/100\n",
      "88/88 [==============================] - 6s 68ms/step - loss: 0.0254 - val_loss: 0.0197\n",
      "Epoch 23/100\n",
      "88/88 [==============================] - 5s 57ms/step - loss: 0.0250 - val_loss: 0.0227\n",
      "Epoch 24/100\n",
      "88/88 [==============================] - 5s 60ms/step - loss: 0.0243 - val_loss: 0.0244\n",
      "Epoch 25/100\n",
      "88/88 [==============================] - 5s 58ms/step - loss: 0.0235 - val_loss: 0.0250\n",
      "Epoch 26/100\n",
      "88/88 [==============================] - 5s 58ms/step - loss: 0.0232 - val_loss: 0.0284\n",
      "Epoch 27/100\n",
      "88/88 [==============================] - 5s 60ms/step - loss: 0.0231 - val_loss: 0.0283\n",
      "Epoch 28/100\n",
      "88/88 [==============================] - 5s 60ms/step - loss: 0.0228 - val_loss: 0.0198\n",
      "Epoch 29/100\n",
      "88/88 [==============================] - 5s 58ms/step - loss: 0.0222 - val_loss: 0.0279\n",
      "Epoch 30/100\n",
      "88/88 [==============================] - 5s 57ms/step - loss: 0.0221 - val_loss: 0.0323\n",
      "Epoch 31/100\n",
      "88/88 [==============================] - 5s 55ms/step - loss: 0.0215 - val_loss: 0.0303\n",
      "Epoch 32/100\n",
      "88/88 [==============================] - 5s 51ms/step - loss: 0.0222 - val_loss: 0.0234\n",
      "Epoch 33/100\n",
      "88/88 [==============================] - 5s 56ms/step - loss: 0.0215 - val_loss: 0.0331\n",
      "Epoch 34/100\n",
      "88/88 [==============================] - 5s 62ms/step - loss: 0.0209 - val_loss: 0.0235\n",
      "Epoch 35/100\n",
      "88/88 [==============================] - 5s 60ms/step - loss: 0.0207 - val_loss: 0.0266\n",
      "Epoch 36/100\n",
      "88/88 [==============================] - 5s 58ms/step - loss: 0.0207 - val_loss: 0.0268\n",
      "Epoch 37/100\n",
      "88/88 [==============================] - 6s 64ms/step - loss: 0.0202 - val_loss: 0.0338\n",
      "Epoch 38/100\n",
      "88/88 [==============================] - 6s 66ms/step - loss: 0.0204 - val_loss: 0.0324\n",
      "Epoch 39/100\n",
      "88/88 [==============================] - 5s 60ms/step - loss: 0.0200 - val_loss: 0.0260\n",
      "Epoch 40/100\n",
      "88/88 [==============================] - 6s 63ms/step - loss: 0.0201 - val_loss: 0.0229\n",
      "Epoch 41/100\n",
      "88/88 [==============================] - 5s 60ms/step - loss: 0.0198 - val_loss: 0.0349\n",
      "Epoch 42/100\n",
      "88/88 [==============================] - 6s 63ms/step - loss: 0.0196 - val_loss: 0.0324\n",
      "Epoch 43/100\n",
      "88/88 [==============================] - 5s 62ms/step - loss: 0.0196 - val_loss: 0.0270\n",
      "Epoch 44/100\n",
      "88/88 [==============================] - 5s 61ms/step - loss: 0.0191 - val_loss: 0.0351\n",
      "Epoch 45/100\n",
      "88/88 [==============================] - 6s 65ms/step - loss: 0.0191 - val_loss: 0.0251\n",
      "Epoch 46/100\n",
      "88/88 [==============================] - 5s 61ms/step - loss: 0.0189 - val_loss: 0.0299\n",
      "Epoch 47/100\n",
      "88/88 [==============================] - 6s 63ms/step - loss: 0.0188 - val_loss: 0.0317\n",
      "Epoch 48/100\n",
      "88/88 [==============================] - 5s 58ms/step - loss: 0.0191 - val_loss: 0.0323\n",
      "Epoch 49/100\n",
      "88/88 [==============================] - 5s 60ms/step - loss: 0.0186 - val_loss: 0.0342\n",
      "Epoch 50/100\n",
      "88/88 [==============================] - 6s 63ms/step - loss: 0.0184 - val_loss: 0.0270\n",
      "Epoch 51/100\n",
      "88/88 [==============================] - 6s 64ms/step - loss: 0.0183 - val_loss: 0.0345\n",
      "Epoch 52/100\n",
      "88/88 [==============================] - 5s 59ms/step - loss: 0.0181 - val_loss: 0.0320\n",
      "Epoch 53/100\n",
      "88/88 [==============================] - 5s 61ms/step - loss: 0.0182 - val_loss: 0.0356\n",
      "Epoch 54/100\n",
      "88/88 [==============================] - 5s 60ms/step - loss: 0.0184 - val_loss: 0.0297\n",
      "Epoch 55/100\n",
      "88/88 [==============================] - 5s 60ms/step - loss: 0.0178 - val_loss: 0.0329\n",
      "Epoch 56/100\n",
      "88/88 [==============================] - 6s 66ms/step - loss: 0.0177 - val_loss: 0.0296\n",
      "Epoch 57/100\n",
      "88/88 [==============================] - 5s 60ms/step - loss: 0.0176 - val_loss: 0.0380\n",
      "Epoch 58/100\n",
      "88/88 [==============================] - 5s 60ms/step - loss: 0.0180 - val_loss: 0.0393\n",
      "Epoch 59/100\n",
      "88/88 [==============================] - 5s 61ms/step - loss: 0.0175 - val_loss: 0.0281\n",
      "Epoch 60/100\n",
      "88/88 [==============================] - 5s 60ms/step - loss: 0.0181 - val_loss: 0.0331\n",
      "Epoch 61/100\n",
      "88/88 [==============================] - 6s 65ms/step - loss: 0.0170 - val_loss: 0.0313\n",
      "Epoch 62/100\n",
      "88/88 [==============================] - 5s 62ms/step - loss: 0.0175 - val_loss: 0.0315\n",
      "Epoch 63/100\n",
      "88/88 [==============================] - 5s 60ms/step - loss: 0.0171 - val_loss: 0.0289\n",
      "Epoch 64/100\n",
      "88/88 [==============================] - 5s 62ms/step - loss: 0.0174 - val_loss: 0.0310\n",
      "Epoch 65/100\n",
      "88/88 [==============================] - 5s 60ms/step - loss: 0.0172 - val_loss: 0.0339\n",
      "Epoch 66/100\n",
      "88/88 [==============================] - 5s 60ms/step - loss: 0.0166 - val_loss: 0.0332\n",
      "Epoch 67/100\n",
      "88/88 [==============================] - 6s 65ms/step - loss: 0.0170 - val_loss: 0.0333\n",
      "Epoch 68/100\n",
      "88/88 [==============================] - 6s 69ms/step - loss: 0.0170 - val_loss: 0.0292\n",
      "Epoch 69/100\n",
      "88/88 [==============================] - 6s 71ms/step - loss: 0.0166 - val_loss: 0.0323\n",
      "Epoch 70/100\n",
      "88/88 [==============================] - 7s 75ms/step - loss: 0.0169 - val_loss: 0.0334\n",
      "Epoch 71/100\n",
      "88/88 [==============================] - 7s 79ms/step - loss: 0.0165 - val_loss: 0.0290\n",
      "Epoch 72/100\n",
      "88/88 [==============================] - 7s 79ms/step - loss: 0.0163 - val_loss: 0.0303\n",
      "Epoch 73/100\n",
      "88/88 [==============================] - 7s 78ms/step - loss: 0.0164 - val_loss: 0.0360\n",
      "Epoch 74/100\n",
      "88/88 [==============================] - 7s 77ms/step - loss: 0.0170 - val_loss: 0.0285\n",
      "Epoch 75/100\n",
      "88/88 [==============================] - 7s 77ms/step - loss: 0.0163 - val_loss: 0.0348\n",
      "Epoch 76/100\n",
      "88/88 [==============================] - 7s 78ms/step - loss: 0.0163 - val_loss: 0.0314\n",
      "Epoch 77/100\n",
      "88/88 [==============================] - 7s 75ms/step - loss: 0.0165 - val_loss: 0.0287\n",
      "Epoch 78/100\n",
      "88/88 [==============================] - 7s 74ms/step - loss: 0.0166 - val_loss: 0.0338\n",
      "Epoch 79/100\n",
      "88/88 [==============================] - 7s 79ms/step - loss: 0.0160 - val_loss: 0.0401\n",
      "Epoch 80/100\n",
      "88/88 [==============================] - 7s 79ms/step - loss: 0.0158 - val_loss: 0.0270\n",
      "Epoch 81/100\n",
      "88/88 [==============================] - 7s 74ms/step - loss: 0.0163 - val_loss: 0.0384\n",
      "Epoch 82/100\n",
      "88/88 [==============================] - 6s 74ms/step - loss: 0.0163 - val_loss: 0.0297\n",
      "Epoch 83/100\n",
      "88/88 [==============================] - 7s 74ms/step - loss: 0.0161 - val_loss: 0.0333\n",
      "Epoch 84/100\n",
      "88/88 [==============================] - 6s 68ms/step - loss: 0.0158 - val_loss: 0.0324\n",
      "Epoch 85/100\n",
      "88/88 [==============================] - 6s 73ms/step - loss: 0.0157 - val_loss: 0.0298\n",
      "Epoch 86/100\n",
      "88/88 [==============================] - 6s 70ms/step - loss: 0.0158 - val_loss: 0.0296\n",
      "Epoch 87/100\n",
      "88/88 [==============================] - 6s 66ms/step - loss: 0.0160 - val_loss: 0.0332\n",
      "Epoch 88/100\n",
      "88/88 [==============================] - 6s 63ms/step - loss: 0.0158 - val_loss: 0.0332\n",
      "Epoch 89/100\n",
      "88/88 [==============================] - 5s 57ms/step - loss: 0.0153 - val_loss: 0.0290\n",
      "Epoch 90/100\n",
      "88/88 [==============================] - 5s 54ms/step - loss: 0.0156 - val_loss: 0.0349\n",
      "Epoch 91/100\n",
      "88/88 [==============================] - 6s 68ms/step - loss: 0.0154 - val_loss: 0.0337\n",
      "Epoch 92/100\n",
      "88/88 [==============================] - 5s 62ms/step - loss: 0.0154 - val_loss: 0.0377\n",
      "Epoch 93/100\n",
      "88/88 [==============================] - 6s 66ms/step - loss: 0.0154 - val_loss: 0.0393\n",
      "Epoch 94/100\n",
      "88/88 [==============================] - 6s 63ms/step - loss: 0.0154 - val_loss: 0.0368\n",
      "Epoch 95/100\n",
      "88/88 [==============================] - 5s 62ms/step - loss: 0.0153 - val_loss: 0.0325\n",
      "Epoch 96/100\n",
      "88/88 [==============================] - 6s 66ms/step - loss: 0.0155 - val_loss: 0.0354\n",
      "Epoch 97/100\n",
      "88/88 [==============================] - 6s 67ms/step - loss: 0.0155 - val_loss: 0.0324\n",
      "Epoch 98/100\n",
      "88/88 [==============================] - 6s 64ms/step - loss: 0.0154 - val_loss: 0.0446\n",
      "Epoch 99/100\n",
      "88/88 [==============================] - 6s 66ms/step - loss: 0.0158 - val_loss: 0.0339\n",
      "Epoch 100/100\n",
      "88/88 [==============================] - 6s 63ms/step - loss: 0.0155 - val_loss: 0.0419\n"
     ]
    }
   ],
   "source": [
    "history=model.fit(np.array(x_train),np.array(x_train),\n",
    "                  batch_size=128, \n",
    "                  epochs=100,\n",
    "                  validation_split=0.1,\n",
    "                  verbose = 1)"
   ]
  },
  {
   "cell_type": "code",
   "execution_count": 10,
   "metadata": {
    "colab": {
     "base_uri": "https://localhost:8080/",
     "height": 285
    },
    "colab_type": "code",
    "id": "HyUB9CS1_Ydy",
    "outputId": "0806580d-319f-4f41-9dab-fa978eb51dda"
   },
   "outputs": [
    {
     "data": {
      "text/plain": [
       "<matplotlib.legend.Legend at 0x7ff626c1d790>"
      ]
     },
     "execution_count": 10,
     "metadata": {},
     "output_type": "execute_result"
    },
    {
     "data": {
      "image/png": "[encoded data removed]",
      "text/plain": [
       "<Figure size 432x288 with 1 Axes>"
      ]
     },
     "metadata": {
      "needs_background": "light"
     },
     "output_type": "display_data"
    }
   ],
   "source": [
    "plt.plot(history.history[\"loss\"], label=\"Training Loss\")\n",
    "plt.plot(history.history[\"val_loss\"], label=\"Validation Loss\")\n",
    "plt.legend()"
   ]
  },
  {
   "cell_type": "code",
   "execution_count": 11,
   "metadata": {
    "colab": {
     "base_uri": "https://localhost:8080/",
     "height": 302
    },
    "colab_type": "code",
    "id": "FFTai-Hz_dq4",
    "outputId": "6f06ebc1-34af-4a96-c07e-173aec35dfe1"
   },
   "outputs": [
    {
     "data": {
      "image/png": "[encoded data removed]",
      "text/plain": [
       "<Figure size 432x288 with 1 Axes>"
      ]
     },
     "metadata": {
      "needs_background": "light"
     },
     "output_type": "display_data"
    },
    {
     "name": "stdout",
     "output_type": "stream",
     "text": [
      "Reconstruction error threshold:  0.4672547361138401\n"
     ]
    }
   ],
   "source": [
    "# Train MAE loss.\n",
    "x_train_pred = model.predict(x_train)\n",
    "train_mae_loss = np.mean(np.abs(x_train_pred - x_train), axis=1)\n",
    "\n",
    "plt.hist(train_mae_loss, bins=50)\n",
    "plt.xlabel(\"Train MAE loss\")\n",
    "plt.ylabel(\"No of samples\")\n",
    "plt.show()\n",
    "\n",
    "# Get reconstruction loss threshold.\n",
    "threshold = np.max(train_mae_loss)\n",
    "print(\"Reconstruction error threshold: \", threshold)"
   ]
  },
  {
   "cell_type": "code",
   "execution_count": 12,
   "metadata": {
    "colab": {
     "base_uri": "https://localhost:8080/",
     "height": 319
    },
    "colab_type": "code",
    "id": "VpflZ5Eq_d7X",
    "outputId": "ab062911-a060-4c99-f6a6-1a869e48d340"
   },
   "outputs": [
    {
     "data": {
      "image/png": "[encoded data removed]",
      "text/plain": [
       "<Figure size 432x288 with 1 Axes>"
      ]
     },
     "metadata": {
      "needs_background": "light"
     },
     "output_type": "display_data"
    },
    {
     "name": "stdout",
     "output_type": "stream",
     "text": [
      "Number of anomaly samples:  0\n",
      "Indices of anomaly samples:  (array([], dtype=int64),)\n"
     ]
    }
   ],
   "source": [
    "# Test MAE loss.\n",
    "x_test_pred = model.predict(x_test)\n",
    "test_mae_loss = np.mean(np.abs(x_test_pred - x_test), axis=1)\n",
    "test_mae_loss = test_mae_loss.reshape((-1))\n",
    "\n",
    "plt.hist(test_mae_loss, bins=50)\n",
    "plt.xlabel(\"test MAE loss\")\n",
    "plt.ylabel(\"No of samples\")\n",
    "plt.show()\n",
    "\n",
    "# Detect all the samples which are anomalies.\n",
    "anomalies = (test_mae_loss > threshold).tolist()\n",
    "print(\"Number of anomaly samples: \", np.sum(anomalies))\n",
    "print(\"Indices of anomaly samples: \", np.where(anomalies))"
   ]
  },
  {
   "cell_type": "code",
   "execution_count": 62,
   "metadata": {
    "colab": {
     "base_uri": "https://localhost:8080/",
     "height": 295
    },
    "colab_type": "code",
    "id": "y6HGqazG_d_v",
    "outputId": "c862ed0f-ebf7-404b-9cf3-db68d96ce798"
   },
   "outputs": [
    {
     "data": {
      "image/png": "[encoded data removed]",
      "text/plain": [
       "<Figure size 432x288 with 1 Axes>"
      ]
     },
     "metadata": {
      "needs_background": "light"
     },
     "output_type": "display_data"
    }
   ],
   "source": [
    "#Plot anomalies\n",
    "anomalous_data_indices = []\n",
    "for data_idx in range(TIME_STEPS - 1, len(testing_value) - TIME_STEPS + 1):\n",
    "    time_series = range(data_idx - TIME_STEPS + 1, data_idx)\n",
    "    if all([anomalies[j] for j in time_series]):\n",
    "        anomalous_data_indices.append(data_idx)\n",
    "\n",
    "df_subset = dataset_test.iloc[anomalous_data_indices, :]\n",
    "plt.subplots_adjust(bottom=0.2)\n",
    "plt.xticks(rotation=25)\n",
    "ax = plt.gca()\n",
    "xfmt = md.DateFormatter(\"%Y-%m-%d %H:%M:%S\")\n",
    "ax.xaxis.set_major_formatter(xfmt)\n",
    "\n",
    "dates = dataset_test['timestamp'].to_list()\n",
    "dates = [datetime.strptime(x, \"%Y-%m-%d %H:%M:%S\") for x in dates]\n",
    "values = dataset_test[\"value\"].to_list()\n",
    "plt.plot(dates, values, label=\"test data\")\n",
    "\n",
    "dates = df_subset['timestamp'].to_list()\n",
    "dates = [datetime.strptime(x, \"%Y-%m-%d %H:%M:%S\") for x in dates]\n",
    "values = df_subset[\"value\"].to_list()\n",
    "plt.plot(dates, values, label=\"anomalies\", color=\"r\")\n",
    "\n",
    "plt.legend()\n",
    "plt.show()"
   ]
  },
  {
   "cell_type": "code",
   "execution_count": null,
   "metadata": {
    "colab": {},
    "colab_type": "code",
    "id": "2TRFfaX3_d5h"
   },
   "outputs": [],
   "source": []
  },
  {
   "cell_type": "markdown",
   "metadata": {
    "colab_type": "text",
    "id": "nVXEzduEKiXU"
   },
   "source": [
    "# **AUTOENCODER MODEL 2 FOR ANOMALY DETECTION**"
   ]
  },
  {
   "cell_type": "code",
   "execution_count": 63,
   "metadata": {
    "colab": {
     "base_uri": "https://localhost:8080/",
     "height": 312
    },
    "colab_type": "code",
    "id": "73gQFk24AUX1",
    "outputId": "e38ea085-5b8f-43d6-eea8-0542f3c3f7f2"
   },
   "outputs": [
    {
     "data": {
      "image/png": "[encoded data removed]",
      "text/plain": [
       "<Figure size 432x288 with 1 Axes>"
      ]
     },
     "metadata": {
      "needs_background": "light"
     },
     "output_type": "display_data"
    },
    {
     "data": {
      "text/plain": [
       "<Figure size 720x432 with 0 Axes>"
      ]
     },
     "metadata": {},
     "output_type": "display_data"
    }
   ],
   "source": [
    "def plot_dates_values(data):\n",
    "    dates = data[\"timestamp\"].to_list()\n",
    "    values = data[\"value\"].to_list()\n",
    "    dates = [datetime.strptime(x, \"%Y-%m-%d %H:%M:%S\") for x in dates]\n",
    "    plt.subplots_adjust(bottom=0.2)\n",
    "    plt.xticks(rotation=25)\n",
    "    ax = plt.gca()\n",
    "    xfmt = md.DateFormatter(\"%Y-%m-%d %H:%M:%S\")\n",
    "    ax.xaxis.set_major_formatter(xfmt)\n",
    "    plt.plot(dates, values)\n",
    "    plt.show()\n",
    "    plt.figure(figsize=(10,6))\n",
    "\n",
    "plot_dates_values(fb_df)"
   ]
  },
  {
   "cell_type": "code",
   "execution_count": 64,
   "metadata": {
    "colab": {
     "base_uri": "https://localhost:8080/",
     "height": 51
    },
    "colab_type": "code",
    "id": "JtO44umKAUks",
    "outputId": "942662f0-c958-4081-bbee-869b202f569d"
   },
   "outputs": [
    {
     "name": "stdout",
     "output_type": "stream",
     "text": [
      "3191\n",
      "12642\n"
     ]
    }
   ],
   "source": [
    "fb_df.set_index('timestamp', inplace=True)\n",
    "msk = np.random.rand(len(fb_df)) < 0.8\n",
    "dataset_train = fb_df[msk]\n",
    "dataset_test = fb_df[~msk]\n",
    "print(len(dataset_test))\n",
    "print(len(dataset_train))"
   ]
  },
  {
   "cell_type": "code",
   "execution_count": 65,
   "metadata": {
    "colab": {},
    "colab_type": "code",
    "id": "SYbiD1cjAUtV"
   },
   "outputs": [],
   "source": [
    "scaler = preprocessing.MinMaxScaler()\n",
    "\n",
    "X_train = pd.DataFrame(scaler.fit_transform(dataset_train), \n",
    "                              columns=dataset_train.columns, \n",
    "                              index=dataset_train.index)\n",
    "# Random shuffle training data\n",
    "X_train.sample(frac=1)\n",
    "\n",
    "X_test = pd.DataFrame(scaler.transform(dataset_test), \n",
    "                             columns=dataset_test.columns, \n",
    "                             index=dataset_test.index)"
   ]
  },
  {
   "cell_type": "code",
   "execution_count": 66,
   "metadata": {
    "colab": {},
    "colab_type": "code",
    "id": "V8FznJL8AUx1"
   },
   "outputs": [],
   "source": [
    "seed(10)\n",
    "tf.random.set_seed(10)\n",
    "act_func = 'elu'\n",
    "\n",
    "# Input layer:\n",
    "model=Sequential()\n",
    "# First hidden layer, connected to input vector X. \n",
    "model.add(Dense(10,activation=act_func,\n",
    "                kernel_initializer='glorot_uniform',\n",
    "                kernel_regularizer=regularizers.l2(0.0),\n",
    "                input_shape=(X_train.shape[1],)\n",
    "               )\n",
    "         )\n",
    "\n",
    "model.add(Dense(2,activation=act_func,\n",
    "                kernel_initializer='glorot_uniform'))\n",
    "\n",
    "model.add(Dense(10,activation=act_func,\n",
    "                kernel_initializer='glorot_uniform'))\n",
    "\n",
    "model.add(Dense(X_train.shape[1],\n",
    "                kernel_initializer='glorot_uniform'))\n",
    "\n",
    "model.compile(loss='mse',optimizer='adam')\n",
    "\n",
    "# Train model for 100 epochs, batch size of 10: \n",
    "NUM_EPOCHS=100\n",
    "BATCH_SIZE=10"
   ]
  },
  {
   "cell_type": "code",
   "execution_count": 67,
   "metadata": {
    "colab": {
     "base_uri": "https://localhost:8080/",
     "height": 1000
    },
    "colab_type": "code",
    "id": "Eqsi5ZuDAVqD",
    "outputId": "a7a21108-e7b6-4f6e-afe1-714e4325607c"
   },
   "outputs": [
    {
     "name": "stdout",
     "output_type": "stream",
     "text": [
      "Epoch 1/100\n",
      "1201/1201 [==============================] - 1s 488us/step - loss: 3.2465e-05 - val_loss: 1.8428e-06\n",
      "Epoch 2/100\n",
      "1201/1201 [==============================] - 1s 432us/step - loss: 2.1880e-05 - val_loss: 1.1546e-05\n",
      "Epoch 3/100\n",
      "1201/1201 [==============================] - 1s 429us/step - loss: 1.4517e-05 - val_loss: 3.5023e-07\n",
      "Epoch 4/100\n",
      "1201/1201 [==============================] - 1s 431us/step - loss: 1.4679e-05 - val_loss: 3.7494e-06\n",
      "Epoch 5/100\n",
      "1201/1201 [==============================] - 1s 427us/step - loss: 1.1081e-05 - val_loss: 5.6710e-05\n",
      "Epoch 6/100\n",
      "1201/1201 [==============================] - 1s 493us/step - loss: 9.5339e-06 - val_loss: 5.6714e-06\n",
      "Epoch 7/100\n",
      "1201/1201 [==============================] - 1s 482us/step - loss: 5.1670e-06 - val_loss: 1.1546e-07\n",
      "Epoch 8/100\n",
      "1201/1201 [==============================] - 1s 461us/step - loss: 5.6372e-06 - val_loss: 1.2228e-07\n",
      "Epoch 9/100\n",
      "1201/1201 [==============================] - 1s 461us/step - loss: 5.1823e-06 - val_loss: 1.0594e-07\n",
      "Epoch 10/100\n",
      "1201/1201 [==============================] - 1s 429us/step - loss: 4.0004e-06 - val_loss: 1.5551e-07\n",
      "Epoch 11/100\n",
      "1201/1201 [==============================] - 1s 470us/step - loss: 4.3099e-06 - val_loss: 2.3186e-07\n",
      "Epoch 12/100\n",
      "1201/1201 [==============================] - 1s 442us/step - loss: 2.5676e-06 - val_loss: 1.7628e-07\n",
      "Epoch 13/100\n",
      "1201/1201 [==============================] - 1s 451us/step - loss: 2.3494e-06 - val_loss: 2.0124e-06\n",
      "Epoch 14/100\n",
      "1201/1201 [==============================] - 1s 435us/step - loss: 1.3135e-06 - val_loss: 2.2010e-05\n",
      "Epoch 15/100\n",
      "1201/1201 [==============================] - 1s 470us/step - loss: 2.8134e-06 - val_loss: 2.1942e-07\n",
      "Epoch 16/100\n",
      "1201/1201 [==============================] - 1s 471us/step - loss: 1.4904e-06 - val_loss: 3.0875e-07\n",
      "Epoch 17/100\n",
      "1201/1201 [==============================] - 1s 570us/step - loss: 2.5327e-06 - val_loss: 5.2495e-07\n",
      "Epoch 18/100\n",
      "1201/1201 [==============================] - 1s 455us/step - loss: 2.2184e-06 - val_loss: 3.6958e-07\n",
      "Epoch 19/100\n",
      "1201/1201 [==============================] - 1s 440us/step - loss: 4.2749e-06 - val_loss: 2.2032e-06\n",
      "Epoch 20/100\n",
      "1201/1201 [==============================] - 1s 436us/step - loss: 7.7331e-07 - val_loss: 2.3423e-07\n",
      "Epoch 21/100\n",
      "1201/1201 [==============================] - 1s 604us/step - loss: 4.8234e-07 - val_loss: 1.8323e-05\n",
      "Epoch 22/100\n",
      "1201/1201 [==============================] - 1s 543us/step - loss: 1.8760e-06 - val_loss: 2.2820e-07\n",
      "Epoch 23/100\n",
      "1201/1201 [==============================] - 1s 427us/step - loss: 8.0704e-07 - val_loss: 1.5996e-06\n",
      "Epoch 24/100\n",
      "1201/1201 [==============================] - 1s 464us/step - loss: 9.1767e-07 - val_loss: 1.8147e-07\n",
      "Epoch 25/100\n",
      "1201/1201 [==============================] - 1s 454us/step - loss: 9.0346e-07 - val_loss: 4.3111e-06\n",
      "Epoch 26/100\n",
      "1201/1201 [==============================] - 1s 438us/step - loss: 5.4389e-07 - val_loss: 1.7440e-07\n",
      "Epoch 27/100\n",
      "1201/1201 [==============================] - 1s 441us/step - loss: 1.8284e-06 - val_loss: 1.9591e-07\n",
      "Epoch 28/100\n",
      "1201/1201 [==============================] - 1s 432us/step - loss: 7.3381e-07 - val_loss: 7.4070e-08\n",
      "Epoch 29/100\n",
      "1201/1201 [==============================] - 1s 449us/step - loss: 9.5596e-07 - val_loss: 1.1238e-07\n",
      "Epoch 30/100\n",
      "1201/1201 [==============================] - 1s 427us/step - loss: 9.2228e-07 - val_loss: 8.6916e-08\n",
      "Epoch 31/100\n",
      "1201/1201 [==============================] - 1s 436us/step - loss: 1.5046e-06 - val_loss: 1.2938e-07\n",
      "Epoch 32/100\n",
      "1201/1201 [==============================] - 1s 439us/step - loss: 4.3968e-07 - val_loss: 9.5271e-08\n",
      "Epoch 33/100\n",
      "1201/1201 [==============================] - 1s 433us/step - loss: 2.9835e-07 - val_loss: 2.0190e-06\n",
      "Epoch 34/100\n",
      "1201/1201 [==============================] - 1s 461us/step - loss: 1.5460e-06 - val_loss: 3.8504e-08\n",
      "Epoch 35/100\n",
      "1201/1201 [==============================] - 1s 433us/step - loss: 4.5472e-07 - val_loss: 7.5875e-08\n",
      "Epoch 36/100\n",
      "1201/1201 [==============================] - 1s 428us/step - loss: 1.0861e-06 - val_loss: 6.9601e-08\n",
      "Epoch 37/100\n",
      "1201/1201 [==============================] - 1s 424us/step - loss: 5.7443e-07 - val_loss: 3.5920e-08\n",
      "Epoch 38/100\n",
      "1201/1201 [==============================] - 1s 424us/step - loss: 5.6823e-07 - val_loss: 7.0500e-08\n",
      "Epoch 39/100\n",
      "1201/1201 [==============================] - 1s 432us/step - loss: 8.5142e-07 - val_loss: 6.4649e-07\n",
      "Epoch 40/100\n",
      "1201/1201 [==============================] - 1s 497us/step - loss: 5.8060e-07 - val_loss: 9.6116e-06\n",
      "Epoch 41/100\n",
      "1201/1201 [==============================] - 1s 505us/step - loss: 1.0049e-06 - val_loss: 7.0877e-08\n",
      "Epoch 42/100\n",
      "1201/1201 [==============================] - 1s 521us/step - loss: 5.3120e-07 - val_loss: 1.3479e-07\n",
      "Epoch 43/100\n",
      "1201/1201 [==============================] - 1s 542us/step - loss: 4.6158e-07 - val_loss: 2.7126e-08\n",
      "Epoch 44/100\n",
      "1201/1201 [==============================] - 1s 589us/step - loss: 9.1800e-07 - val_loss: 3.1983e-08\n",
      "Epoch 45/100\n",
      "1201/1201 [==============================] - 1s 500us/step - loss: 4.5276e-07 - val_loss: 1.5042e-08\n",
      "Epoch 46/100\n",
      "1201/1201 [==============================] - 1s 543us/step - loss: 8.4949e-07 - val_loss: 3.5029e-06\n",
      "Epoch 47/100\n",
      "1201/1201 [==============================] - 1s 581us/step - loss: 6.3481e-07 - val_loss: 1.5863e-06\n",
      "Epoch 48/100\n",
      "1201/1201 [==============================] - 1s 507us/step - loss: 1.8690e-07 - val_loss: 1.3027e-08\n",
      "Epoch 49/100\n",
      "1201/1201 [==============================] - 1s 450us/step - loss: 1.1004e-06 - val_loss: 2.3864e-08\n",
      "Epoch 50/100\n",
      "1201/1201 [==============================] - 1s 470us/step - loss: 2.9380e-07 - val_loss: 3.2365e-07\n",
      "Epoch 51/100\n",
      "1201/1201 [==============================] - 1s 462us/step - loss: 3.9797e-07 - val_loss: 7.5586e-07\n",
      "Epoch 52/100\n",
      "1201/1201 [==============================] - 1s 431us/step - loss: 4.0647e-07 - val_loss: 1.2208e-08\n",
      "Epoch 53/100\n",
      "1201/1201 [==============================] - 1s 507us/step - loss: 4.1904e-07 - val_loss: 2.9677e-08\n",
      "Epoch 54/100\n",
      "1201/1201 [==============================] - 1s 501us/step - loss: 5.1271e-07 - val_loss: 6.8136e-07\n",
      "Epoch 55/100\n",
      "1201/1201 [==============================] - 1s 545us/step - loss: 4.6177e-07 - val_loss: 8.7018e-09\n",
      "Epoch 56/100\n",
      "1201/1201 [==============================] - 1s 503us/step - loss: 5.3338e-07 - val_loss: 1.9973e-08\n",
      "Epoch 57/100\n",
      "1201/1201 [==============================] - 1s 474us/step - loss: 1.0612e-06 - val_loss: 7.6868e-09\n",
      "Epoch 58/100\n",
      "1201/1201 [==============================] - 1s 430us/step - loss: 9.4542e-07 - val_loss: 1.9903e-08\n",
      "Epoch 59/100\n",
      "1201/1201 [==============================] - 1s 446us/step - loss: 4.6545e-07 - val_loss: 8.5435e-08\n",
      "Epoch 60/100\n",
      "1201/1201 [==============================] - 1s 472us/step - loss: 3.1811e-07 - val_loss: 1.4757e-06\n",
      "Epoch 61/100\n",
      "1201/1201 [==============================] - 1s 457us/step - loss: 2.9556e-07 - val_loss: 5.7879e-09\n",
      "Epoch 62/100\n",
      "1201/1201 [==============================] - 1s 463us/step - loss: 9.4702e-07 - val_loss: 1.7299e-08\n",
      "Epoch 63/100\n",
      "1201/1201 [==============================] - 1s 475us/step - loss: 2.3049e-07 - val_loss: 8.0209e-09\n",
      "Epoch 64/100\n",
      "1201/1201 [==============================] - 1s 460us/step - loss: 6.8494e-07 - val_loss: 1.0860e-08\n",
      "Epoch 65/100\n",
      "1201/1201 [==============================] - 1s 572us/step - loss: 5.7000e-07 - val_loss: 8.7431e-09\n",
      "Epoch 66/100\n",
      "1201/1201 [==============================] - 1s 593us/step - loss: 2.2619e-07 - val_loss: 8.6471e-09\n",
      "Epoch 67/100\n",
      "1201/1201 [==============================] - 1s 493us/step - loss: 3.5731e-07 - val_loss: 2.0652e-05\n",
      "Epoch 68/100\n",
      "1201/1201 [==============================] - 1s 569us/step - loss: 5.0922e-07 - val_loss: 7.0987e-09\n",
      "Epoch 69/100\n",
      "1201/1201 [==============================] - 1s 497us/step - loss: 1.1047e-06 - val_loss: 7.7617e-09\n",
      "Epoch 70/100\n",
      "1201/1201 [==============================] - 1s 500us/step - loss: 1.8886e-07 - val_loss: 9.1364e-09\n",
      "Epoch 71/100\n",
      "1201/1201 [==============================] - 1s 531us/step - loss: 5.8031e-07 - val_loss: 3.5223e-07\n",
      "Epoch 72/100\n",
      "1201/1201 [==============================] - 1s 612us/step - loss: 1.9104e-07 - val_loss: 1.3042e-07\n"
     ]
    },
    {
     "name": "stdout",
     "output_type": "stream",
     "text": [
      "Epoch 73/100\n",
      "1201/1201 [==============================] - 1s 558us/step - loss: 4.3082e-07 - val_loss: 9.8752e-09\n",
      "Epoch 74/100\n",
      "1201/1201 [==============================] - 1s 492us/step - loss: 1.5258e-06 - val_loss: 1.1492e-08\n",
      "Epoch 75/100\n",
      "1201/1201 [==============================] - 1s 440us/step - loss: 2.1874e-07 - val_loss: 3.3196e-08\n",
      "Epoch 76/100\n",
      "1201/1201 [==============================] - 1s 498us/step - loss: 3.0595e-07 - val_loss: 7.3157e-09\n",
      "Epoch 77/100\n",
      "1201/1201 [==============================] - 1s 474us/step - loss: 4.4182e-07 - val_loss: 1.2649e-07\n",
      "Epoch 78/100\n",
      "1201/1201 [==============================] - 1s 464us/step - loss: 4.2050e-07 - val_loss: 3.6085e-08\n",
      "Epoch 79/100\n",
      "1201/1201 [==============================] - 1s 465us/step - loss: 2.1502e-07 - val_loss: 7.9739e-08\n",
      "Epoch 80/100\n",
      "1201/1201 [==============================] - 1s 447us/step - loss: 2.9000e-07 - val_loss: 1.1376e-08\n",
      "Epoch 81/100\n",
      "1201/1201 [==============================] - 1s 476us/step - loss: 2.5714e-07 - val_loss: 4.2606e-06\n",
      "Epoch 82/100\n",
      "1201/1201 [==============================] - 1s 447us/step - loss: 4.3589e-07 - val_loss: 5.5023e-08\n",
      "Epoch 83/100\n",
      "1201/1201 [==============================] - 1s 452us/step - loss: 3.7649e-07 - val_loss: 1.6258e-08\n",
      "Epoch 84/100\n",
      "1201/1201 [==============================] - 1s 441us/step - loss: 1.8016e-06 - val_loss: 2.1129e-07\n",
      "Epoch 85/100\n",
      "1201/1201 [==============================] - 1s 476us/step - loss: 3.5051e-07 - val_loss: 1.0207e-07\n",
      "Epoch 86/100\n",
      "1201/1201 [==============================] - 1s 647us/step - loss: 3.2175e-07 - val_loss: 7.8096e-09\n",
      "Epoch 87/100\n",
      "1201/1201 [==============================] - 1s 796us/step - loss: 4.7927e-07 - val_loss: 3.2794e-06\n",
      "Epoch 88/100\n",
      "1201/1201 [==============================] - 1s 768us/step - loss: 8.6327e-07 - val_loss: 1.1680e-08\n",
      "Epoch 89/100\n",
      "1201/1201 [==============================] - 1s 785us/step - loss: 1.8801e-07 - val_loss: 2.9326e-08\n",
      "Epoch 90/100\n",
      "1201/1201 [==============================] - 1s 778us/step - loss: 6.9324e-07 - val_loss: 9.7706e-09\n",
      "Epoch 91/100\n",
      "1201/1201 [==============================] - 1s 820us/step - loss: 1.7853e-07 - val_loss: 1.1952e-08\n",
      "Epoch 92/100\n",
      "1201/1201 [==============================] - 1s 739us/step - loss: 5.1293e-07 - val_loss: 3.3609e-08\n",
      "Epoch 93/100\n",
      "1201/1201 [==============================] - 1s 616us/step - loss: 3.8578e-07 - val_loss: 8.0901e-09\n",
      "Epoch 94/100\n",
      "1201/1201 [==============================] - 1s 595us/step - loss: 6.7069e-07 - val_loss: 4.1146e-07\n",
      "Epoch 95/100\n",
      "1201/1201 [==============================] - 1s 585us/step - loss: 4.4631e-07 - val_loss: 6.5957e-09\n",
      "Epoch 96/100\n",
      "1201/1201 [==============================] - 1s 610us/step - loss: 4.7917e-07 - val_loss: 1.5713e-08\n",
      "Epoch 97/100\n",
      "1201/1201 [==============================] - 1s 495us/step - loss: 4.7692e-07 - val_loss: 4.2301e-08\n",
      "Epoch 98/100\n",
      "1201/1201 [==============================] - 1s 460us/step - loss: 5.2448e-07 - val_loss: 8.5820e-09\n",
      "Epoch 99/100\n",
      "1201/1201 [==============================] - 1s 459us/step - loss: 5.3660e-07 - val_loss: 1.5697e-07\n",
      "Epoch 100/100\n",
      "1201/1201 [==============================] - 1s 477us/step - loss: 3.8945e-07 - val_loss: 1.7282e-08\n"
     ]
    }
   ],
   "source": [
    "history=model.fit(np.array(X_train),np.array(X_train),\n",
    "                  batch_size=BATCH_SIZE, \n",
    "                  epochs=NUM_EPOCHS,\n",
    "                  validation_split=0.05,\n",
    "                  verbose = 1)"
   ]
  },
  {
   "cell_type": "code",
   "execution_count": 68,
   "metadata": {
    "colab": {
     "base_uri": "https://localhost:8080/",
     "height": 296
    },
    "colab_type": "code",
    "id": "GxXxxkIOAV5C",
    "outputId": "23eca396-ff79-4121-914f-71719f321079"
   },
   "outputs": [
    {
     "data": {
      "image/png": "[encoded data removed]",
      "text/plain": [
       "<Figure size 432x288 with 1 Axes>"
      ]
     },
     "metadata": {
      "needs_background": "light"
     },
     "output_type": "display_data"
    }
   ],
   "source": [
    "plt.plot(history.history['loss'],\n",
    "         'b',\n",
    "         label='Training loss')\n",
    "plt.plot(history.history['val_loss'],\n",
    "         'r',\n",
    "         label='Validation loss')\n",
    "plt.legend(loc='upper right')\n",
    "plt.xlabel('Epochs')\n",
    "plt.ylabel('Loss, [mse]')\n",
    "plt.show()"
   ]
  },
  {
   "cell_type": "code",
   "execution_count": 69,
   "metadata": {
    "colab": {
     "base_uri": "https://localhost:8080/",
     "height": 302
    },
    "colab_type": "code",
    "id": "Ng9ZD8huAV3a",
    "outputId": "256a6b22-b772-4125-c093-90535fdde8d0"
   },
   "outputs": [
    {
     "name": "stdout",
     "output_type": "stream",
     "text": [
      "Reconstruction error threshold:  0.007825076580047607\n"
     ]
    },
    {
     "data": {
      "image/png": "[encoded data removed]",
      "text/plain": [
       "<Figure size 432x288 with 1 Axes>"
      ]
     },
     "metadata": {
      "needs_background": "light"
     },
     "output_type": "display_data"
    }
   ],
   "source": [
    "X_pred = model.predict(np.array(X_train))\n",
    "X_pred = pd.DataFrame(X_pred, \n",
    "                      columns=X_train.columns)\n",
    "X_pred.index = X_train.index\n",
    "\n",
    "scored = pd.DataFrame(index=X_train.index)\n",
    "scored['Loss_mae'] = np.mean(np.abs(X_pred-X_train), axis = 1)\n",
    "plt.figure()\n",
    "sns.distplot(scored['Loss_mae'],\n",
    "             bins = 10, \n",
    "             kde= True,\n",
    "            color = 'blue');\n",
    "\n",
    "\n",
    "# Get reconstruction loss threshold.\n",
    "threshold = np.max(scored['Loss_mae'])\n",
    "print(\"Reconstruction error threshold: \", threshold)"
   ]
  },
  {
   "cell_type": "code",
   "execution_count": 70,
   "metadata": {
    "colab": {
     "base_uri": "https://localhost:8080/",
     "height": 235
    },
    "colab_type": "code",
    "id": "bJTVjjWQAVzN",
    "outputId": "e7471473-94f8-4d5f-9faf-765c4625394e"
   },
   "outputs": [
    {
     "data": {
      "text/html": [
       "<div>\n",
       "<style scoped>\n",
       "    .dataframe tbody tr th:only-of-type {\n",
       "        vertical-align: middle;\n",
       "    }\n",
       "\n",
       "    .dataframe tbody tr th {\n",
       "        vertical-align: top;\n",
       "    }\n",
       "\n",
       "    .dataframe thead th {\n",
       "        text-align: right;\n",
       "    }\n",
       "</style>\n",
       "<table border=\"1\" class=\"dataframe\">\n",
       "  <thead>\n",
       "    <tr style=\"text-align: right;\">\n",
       "      <th></th>\n",
       "      <th>Loss_mae</th>\n",
       "      <th>Threshold</th>\n",
       "      <th>Anomaly</th>\n",
       "    </tr>\n",
       "    <tr>\n",
       "      <th>timestamp</th>\n",
       "      <th></th>\n",
       "      <th></th>\n",
       "      <th></th>\n",
       "    </tr>\n",
       "  </thead>\n",
       "  <tbody>\n",
       "    <tr>\n",
       "      <th>2015-02-26 21:42:53</th>\n",
       "      <td>0.000046</td>\n",
       "      <td>0.008</td>\n",
       "      <td>False</td>\n",
       "    </tr>\n",
       "    <tr>\n",
       "      <th>2015-02-26 21:57:53</th>\n",
       "      <td>0.000030</td>\n",
       "      <td>0.008</td>\n",
       "      <td>False</td>\n",
       "    </tr>\n",
       "    <tr>\n",
       "      <th>2015-02-26 22:07:53</th>\n",
       "      <td>0.000023</td>\n",
       "      <td>0.008</td>\n",
       "      <td>False</td>\n",
       "    </tr>\n",
       "    <tr>\n",
       "      <th>2015-02-26 22:32:53</th>\n",
       "      <td>0.000017</td>\n",
       "      <td>0.008</td>\n",
       "      <td>False</td>\n",
       "    </tr>\n",
       "    <tr>\n",
       "      <th>2015-02-26 22:37:53</th>\n",
       "      <td>0.000011</td>\n",
       "      <td>0.008</td>\n",
       "      <td>False</td>\n",
       "    </tr>\n",
       "  </tbody>\n",
       "</table>\n",
       "</div>"
      ],
      "text/plain": [
       "                     Loss_mae  Threshold  Anomaly\n",
       "timestamp                                        \n",
       "2015-02-26 21:42:53  0.000046      0.008    False\n",
       "2015-02-26 21:57:53  0.000030      0.008    False\n",
       "2015-02-26 22:07:53  0.000023      0.008    False\n",
       "2015-02-26 22:32:53  0.000017      0.008    False\n",
       "2015-02-26 22:37:53  0.000011      0.008    False"
      ]
     },
     "execution_count": 70,
     "metadata": {},
     "output_type": "execute_result"
    }
   ],
   "source": [
    "X_pred = model.predict(np.array(X_test))\n",
    "X_pred = pd.DataFrame(X_pred, \n",
    "                      columns=X_test.columns)\n",
    "X_pred.index = X_test.index\n",
    "\n",
    "scored = pd.DataFrame(index=X_test.index)\n",
    "scored['Loss_mae'] = np.mean(np.abs(X_pred-X_test), axis = 1)\n",
    "scored['Threshold'] = 0.008\n",
    "scored['Anomaly'] = scored['Loss_mae'] > scored['Threshold']\n",
    "scored.head()"
   ]
  },
  {
   "cell_type": "code",
   "execution_count": 71,
   "metadata": {
    "colab": {},
    "colab_type": "code",
    "id": "1aexZWBnAVu0"
   },
   "outputs": [],
   "source": [
    "X_pred_train = model.predict(np.array(X_train))\n",
    "X_pred_train = pd.DataFrame(X_pred_train, \n",
    "                      columns=X_train.columns)\n",
    "X_pred_train.index = X_train.index\n",
    "\n",
    "scored_train = pd.DataFrame(index=X_train.index)\n",
    "scored_train['Loss_mae'] = np.mean(np.abs(X_pred_train-X_train), axis = 1)\n",
    "scored_train['Threshold'] = 0.008\n",
    "scored_train['Anomaly'] = scored_train['Loss_mae'] > scored_train['Threshold']\n",
    "scored = pd.concat([scored_train, scored])"
   ]
  },
  {
   "cell_type": "code",
   "execution_count": 72,
   "metadata": {
    "colab": {
     "base_uri": "https://localhost:8080/",
     "height": 411
    },
    "colab_type": "code",
    "id": "zJxG0-8lAUfi",
    "outputId": "a9d00ed8-0a3e-4e48-bb49-b81ab89cf585"
   },
   "outputs": [
    {
     "name": "stderr",
     "output_type": "stream",
     "text": [
      "/Library/Frameworks/Python.framework/Versions/3.8/lib/python3.8/site-packages/pandas/plotting/_matplotlib/core.py:1235: UserWarning: FixedFormatter should only be used together with FixedLocator\n",
      "  ax.set_xticklabels(xticklabels)\n"
     ]
    },
    {
     "data": {
      "text/plain": [
       "<AxesSubplot:xlabel='timestamp'>"
      ]
     },
     "execution_count": 72,
     "metadata": {},
     "output_type": "execute_result"
    },
    {
     "data": {
      "image/png": "[encoded data removed]",
      "text/plain": [
       "<Figure size 720x432 with 1 Axes>"
      ]
     },
     "metadata": {
      "needs_background": "light"
     },
     "output_type": "display_data"
    }
   ],
   "source": [
    "scored.plot(logy=True,  figsize = (10,6), color = ['blue','red'])"
   ]
  },
  {
   "cell_type": "markdown",
   "metadata": {
    "colab_type": "text",
    "id": "b904GfVOOMUd"
   },
   "source": [
    "# **AUTOENCODER MODEL 3 FOR ANOMALY DETECTION**"
   ]
  },
  {
   "cell_type": "code",
   "execution_count": 73,
   "metadata": {
    "colab": {},
    "colab_type": "code",
    "id": "iQMKo-5eOQ5u"
   },
   "outputs": [],
   "source": [
    "def create_dataset(X, y, time_steps=1):\n",
    "    Xs, ys = [], []\n",
    "    for i in range(len(X) - time_steps):\n",
    "        v = X.iloc[i:(i + time_steps)].values\n",
    "        Xs.append(v)\n",
    "        ys.append(y.iloc[i + time_steps])\n",
    "    return np.array(Xs), np.array(ys)\n",
    "\n",
    "\n",
    "TIME_STEPS = 30\n",
    "\n",
    "X_train, y_train = create_dataset(\n",
    "  dataset_train[['value']],\n",
    "  dataset_train.value,\n",
    "  TIME_STEPS\n",
    ")\n",
    "X_test, y_test = create_dataset(\n",
    "  dataset_test[['value']],\n",
    "  dataset_test.value,\n",
    "  TIME_STEPS\n",
    ")"
   ]
  },
  {
   "cell_type": "code",
   "execution_count": 74,
   "metadata": {
    "colab": {},
    "colab_type": "code",
    "id": "GmHVYQbZgqiv"
   },
   "outputs": [],
   "source": [
    "model = Sequential()\n",
    "model.add(layers.LSTM(\n",
    "    units=64,\n",
    "    input_shape=(X_train.shape[1], X_train.shape[2])\n",
    "))\n",
    "model.add(layers.Dropout(rate=0.2))\n",
    "model.add(layers.RepeatVector(n=X_train.shape[1]))\n",
    "model.add(layers.LSTM(units=64, return_sequences=True))\n",
    "model.add(layers.Dropout(rate=0.2))\n",
    "model.add(layers.TimeDistributed(layers.Dense(units=X_train.shape[2])\n",
    "  )\n",
    ")\n",
    "model.compile(loss='mae', optimizer='adam')"
   ]
  },
  {
   "cell_type": "code",
   "execution_count": 75,
   "metadata": {
    "colab": {
     "base_uri": "https://localhost:8080/",
     "height": 1000
    },
    "colab_type": "code",
    "id": "mYWzvgSUhYU8",
    "outputId": "72f6c960-f787-4d4f-9481-784cc354719e"
   },
   "outputs": [
    {
     "name": "stdout",
     "output_type": "stream",
     "text": [
      "Epoch 1/100\n",
      "355/355 [==============================] - 8s 23ms/step - loss: 9.2491 - val_loss: 7.9311\n",
      "Epoch 2/100\n",
      "355/355 [==============================] - 7s 21ms/step - loss: 7.0721 - val_loss: 7.2142\n",
      "Epoch 3/100\n",
      "355/355 [==============================] - 7s 19ms/step - loss: 6.6543 - val_loss: 7.0370\n",
      "Epoch 4/100\n",
      "355/355 [==============================] - 8s 22ms/step - loss: 6.4832 - val_loss: 6.9106\n",
      "Epoch 5/100\n",
      "355/355 [==============================] - 7s 20ms/step - loss: 6.3617 - val_loss: 6.8086\n",
      "Epoch 6/100\n",
      "355/355 [==============================] - 8s 22ms/step - loss: 6.2559 - val_loss: 6.7107\n",
      "Epoch 7/100\n",
      "355/355 [==============================] - 8s 22ms/step - loss: 6.2015 - val_loss: 6.6823\n",
      "Epoch 8/100\n",
      "355/355 [==============================] - 8s 23ms/step - loss: 6.1417 - val_loss: 6.6572\n",
      "Epoch 9/100\n",
      "355/355 [==============================] - 7s 20ms/step - loss: 6.1016 - val_loss: 6.5933\n",
      "Epoch 10/100\n",
      "355/355 [==============================] - 8s 23ms/step - loss: 6.0700 - val_loss: 6.5803\n",
      "Epoch 11/100\n",
      "355/355 [==============================] - 8s 21ms/step - loss: 6.0320 - val_loss: 6.5281\n",
      "Epoch 12/100\n",
      "355/355 [==============================] - 7s 21ms/step - loss: 5.9762 - val_loss: 6.5088\n",
      "Epoch 13/100\n",
      "355/355 [==============================] - 7s 21ms/step - loss: 5.9687 - val_loss: 6.4830\n",
      "Epoch 14/100\n",
      "355/355 [==============================] - 8s 21ms/step - loss: 5.9360 - val_loss: 6.4376\n",
      "Epoch 15/100\n",
      "355/355 [==============================] - 7s 20ms/step - loss: 5.9174 - val_loss: 6.4211\n",
      "Epoch 16/100\n",
      "355/355 [==============================] - 8s 22ms/step - loss: 5.9046 - val_loss: 6.4208\n",
      "Epoch 17/100\n",
      "355/355 [==============================] - 8s 21ms/step - loss: 5.8767 - val_loss: 6.3842\n",
      "Epoch 18/100\n",
      "355/355 [==============================] - 7s 19ms/step - loss: 5.8339 - val_loss: 6.3656\n",
      "Epoch 19/100\n",
      "355/355 [==============================] - 7s 20ms/step - loss: 5.8460 - val_loss: 6.3785\n",
      "Epoch 20/100\n",
      "355/355 [==============================] - 8s 22ms/step - loss: 5.8837 - val_loss: 6.3234\n",
      "Epoch 21/100\n",
      "355/355 [==============================] - 8s 21ms/step - loss: 5.8262 - val_loss: 6.3098\n",
      "Epoch 22/100\n",
      "355/355 [==============================] - 8s 21ms/step - loss: 5.8215 - val_loss: 6.2918\n",
      "Epoch 23/100\n",
      "355/355 [==============================] - 8s 22ms/step - loss: 5.8400 - val_loss: 6.3290\n",
      "Epoch 24/100\n",
      "355/355 [==============================] - 8s 23ms/step - loss: 5.8156 - val_loss: 6.2855\n",
      "Epoch 25/100\n",
      "355/355 [==============================] - 8s 23ms/step - loss: 5.7902 - val_loss: 6.2675\n",
      "Epoch 26/100\n",
      "355/355 [==============================] - 8s 22ms/step - loss: 5.8162 - val_loss: 6.2777\n",
      "Epoch 27/100\n",
      "355/355 [==============================] - 8s 22ms/step - loss: 5.7943 - val_loss: 6.2408\n",
      "Epoch 28/100\n",
      "355/355 [==============================] - 7s 20ms/step - loss: 5.7826 - val_loss: 6.2454\n",
      "Epoch 29/100\n",
      "355/355 [==============================] - 7s 21ms/step - loss: 5.7881 - val_loss: 6.2701\n",
      "Epoch 30/100\n",
      "355/355 [==============================] - 7s 19ms/step - loss: 5.7709 - val_loss: 6.2618\n",
      "Epoch 31/100\n",
      "355/355 [==============================] - 6s 18ms/step - loss: 5.7652 - val_loss: 6.2580\n",
      "Epoch 32/100\n",
      "355/355 [==============================] - 8s 22ms/step - loss: 5.7449 - val_loss: 6.2405\n",
      "Epoch 33/100\n",
      "355/355 [==============================] - 8s 21ms/step - loss: 5.7518 - val_loss: 6.2621\n",
      "Epoch 34/100\n",
      "355/355 [==============================] - 8s 21ms/step - loss: 5.7594 - val_loss: 6.2366\n",
      "Epoch 35/100\n",
      "355/355 [==============================] - 8s 21ms/step - loss: 5.7889 - val_loss: 6.2025\n",
      "Epoch 36/100\n",
      "355/355 [==============================] - 8s 22ms/step - loss: 5.8140 - val_loss: 6.1957\n",
      "Epoch 37/100\n",
      "355/355 [==============================] - 8s 21ms/step - loss: 5.7444 - val_loss: 6.2069\n",
      "Epoch 38/100\n",
      "355/355 [==============================] - 8s 21ms/step - loss: 5.7423 - val_loss: 6.2136\n",
      "Epoch 39/100\n",
      "355/355 [==============================] - 7s 21ms/step - loss: 5.7386 - val_loss: 6.2046\n",
      "Epoch 40/100\n",
      "355/355 [==============================] - 8s 22ms/step - loss: 5.7333 - val_loss: 6.1866\n",
      "Epoch 41/100\n",
      "355/355 [==============================] - 7s 21ms/step - loss: 5.7358 - val_loss: 6.2091\n",
      "Epoch 42/100\n",
      "355/355 [==============================] - 7s 21ms/step - loss: 5.7324 - val_loss: 6.1584\n",
      "Epoch 43/100\n",
      "355/355 [==============================] - 7s 20ms/step - loss: 5.7239 - val_loss: 6.1615\n",
      "Epoch 44/100\n",
      "355/355 [==============================] - 8s 22ms/step - loss: 5.7277 - val_loss: 6.1712\n",
      "Epoch 45/100\n",
      "355/355 [==============================] - 7s 21ms/step - loss: 5.7199 - val_loss: 6.1926\n",
      "Epoch 46/100\n",
      "355/355 [==============================] - 7s 21ms/step - loss: 5.7122 - val_loss: 6.1905\n",
      "Epoch 47/100\n",
      "355/355 [==============================] - 7s 21ms/step - loss: 5.7124 - val_loss: 6.1442\n",
      "Epoch 48/100\n",
      "355/355 [==============================] - 8s 23ms/step - loss: 5.6976 - val_loss: 6.1029\n",
      "Epoch 49/100\n",
      "355/355 [==============================] - 7s 21ms/step - loss: 5.7042 - val_loss: 6.1284\n",
      "Epoch 50/100\n",
      "355/355 [==============================] - 7s 18ms/step - loss: 5.7017 - val_loss: 6.1495\n",
      "Epoch 51/100\n",
      "355/355 [==============================] - 7s 19ms/step - loss: 5.7108 - val_loss: 6.1763\n",
      "Epoch 52/100\n",
      "355/355 [==============================] - 8s 22ms/step - loss: 5.6973 - val_loss: 6.1787\n",
      "Epoch 53/100\n",
      "355/355 [==============================] - 6s 18ms/step - loss: 5.6991 - val_loss: 6.1668\n",
      "Epoch 54/100\n",
      "355/355 [==============================] - 7s 19ms/step - loss: 5.6847 - val_loss: 6.1621\n",
      "Epoch 55/100\n",
      "355/355 [==============================] - 7s 20ms/step - loss: 5.6992 - val_loss: 6.1222\n",
      "Epoch 56/100\n",
      "355/355 [==============================] - 8s 22ms/step - loss: 5.6721 - val_loss: 6.1276\n",
      "Epoch 57/100\n",
      "355/355 [==============================] - 7s 21ms/step - loss: 5.6799 - val_loss: 6.1582\n",
      "Epoch 58/100\n",
      "355/355 [==============================] - 7s 20ms/step - loss: 5.6967 - val_loss: 6.1730\n",
      "Epoch 59/100\n",
      "355/355 [==============================] - 7s 21ms/step - loss: 5.6709 - val_loss: 6.2033\n",
      "Epoch 60/100\n",
      "355/355 [==============================] - 8s 21ms/step - loss: 5.6859 - val_loss: 6.1803\n",
      "Epoch 61/100\n",
      "355/355 [==============================] - 7s 21ms/step - loss: 5.6815 - val_loss: 6.1522\n",
      "Epoch 62/100\n",
      "355/355 [==============================] - 7s 21ms/step - loss: 5.6712 - val_loss: 6.1282\n",
      "Epoch 63/100\n",
      "355/355 [==============================] - 8s 22ms/step - loss: 5.6691 - val_loss: 6.1270\n",
      "Epoch 64/100\n",
      "355/355 [==============================] - 7s 20ms/step - loss: 5.6502 - val_loss: 6.1121\n",
      "Epoch 65/100\n",
      "355/355 [==============================] - 7s 20ms/step - loss: 5.6738 - val_loss: 6.1408\n",
      "Epoch 66/100\n",
      "355/355 [==============================] - 7s 21ms/step - loss: 5.6632 - val_loss: 6.1118\n",
      "Epoch 67/100\n",
      "355/355 [==============================] - 7s 19ms/step - loss: 5.6447 - val_loss: 6.0985\n",
      "Epoch 68/100\n",
      "355/355 [==============================] - 6s 18ms/step - loss: 5.6460 - val_loss: 6.0955\n",
      "Epoch 69/100\n",
      "355/355 [==============================] - 8s 22ms/step - loss: 5.6489 - val_loss: 6.1101\n",
      "Epoch 70/100\n",
      "355/355 [==============================] - 8s 21ms/step - loss: 5.6251 - val_loss: 6.1359\n",
      "Epoch 71/100\n",
      "355/355 [==============================] - 7s 20ms/step - loss: 5.6362 - val_loss: 6.0728\n",
      "Epoch 72/100\n",
      "355/355 [==============================] - 7s 21ms/step - loss: 5.6433 - val_loss: 6.0695\n",
      "Epoch 73/100\n",
      "355/355 [==============================] - 8s 21ms/step - loss: 5.6325 - val_loss: 6.1640\n",
      "Epoch 74/100\n",
      "355/355 [==============================] - 6s 18ms/step - loss: 5.6264 - val_loss: 6.1578\n",
      "Epoch 75/100\n",
      "355/355 [==============================] - 7s 21ms/step - loss: 5.6041 - val_loss: 6.0873\n",
      "Epoch 76/100\n",
      "355/355 [==============================] - 8s 21ms/step - loss: 5.6028 - val_loss: 6.0873\n",
      "Epoch 77/100\n",
      "355/355 [==============================] - 7s 20ms/step - loss: 5.6252 - val_loss: 6.0924\n",
      "Epoch 78/100\n",
      "355/355 [==============================] - 7s 20ms/step - loss: 5.6067 - val_loss: 6.0883\n",
      "Epoch 79/100\n",
      "355/355 [==============================] - 6s 18ms/step - loss: 5.5873 - val_loss: 6.0924\n",
      "Epoch 80/100\n",
      "355/355 [==============================] - 7s 19ms/step - loss: 5.5994 - val_loss: 6.0973\n",
      "Epoch 81/100\n",
      "355/355 [==============================] - 8s 22ms/step - loss: 5.5807 - val_loss: 6.0989\n",
      "Epoch 82/100\n",
      "355/355 [==============================] - 7s 19ms/step - loss: 5.6113 - val_loss: 6.1475\n",
      "Epoch 83/100\n",
      "355/355 [==============================] - 6s 17ms/step - loss: 5.6120 - val_loss: 6.1253\n",
      "Epoch 84/100\n",
      "355/355 [==============================] - 6s 18ms/step - loss: 5.6025 - val_loss: 6.1357\n",
      "Epoch 85/100\n",
      "355/355 [==============================] - 8s 22ms/step - loss: 5.5810 - val_loss: 6.1020\n",
      "Epoch 86/100\n",
      "355/355 [==============================] - 8s 21ms/step - loss: 5.5702 - val_loss: 6.1679\n",
      "Epoch 87/100\n",
      "355/355 [==============================] - 7s 18ms/step - loss: 5.6171 - val_loss: 6.1370\n",
      "Epoch 88/100\n",
      "355/355 [==============================] - 6s 17ms/step - loss: 5.5913 - val_loss: 6.1532\n",
      "Epoch 89/100\n",
      "355/355 [==============================] - 6s 17ms/step - loss: 5.5745 - val_loss: 6.2279\n",
      "Epoch 90/100\n",
      "355/355 [==============================] - 7s 21ms/step - loss: 5.5595 - val_loss: 6.1786\n",
      "Epoch 91/100\n",
      "355/355 [==============================] - 6s 17ms/step - loss: 5.5814 - val_loss: 6.1885\n",
      "Epoch 92/100\n",
      "355/355 [==============================] - 7s 19ms/step - loss: 5.5673 - val_loss: 6.1034\n",
      "Epoch 93/100\n",
      "355/355 [==============================] - 7s 20ms/step - loss: 5.5834 - val_loss: 6.0793\n",
      "Epoch 94/100\n",
      "355/355 [==============================] - 7s 20ms/step - loss: 5.5585 - val_loss: 6.1149\n",
      "Epoch 95/100\n",
      "355/355 [==============================] - 7s 19ms/step - loss: 5.5530 - val_loss: 6.1200\n",
      "Epoch 96/100\n",
      "355/355 [==============================] - 6s 16ms/step - loss: 5.5614 - val_loss: 6.1380\n",
      "Epoch 97/100\n",
      "355/355 [==============================] - 6s 17ms/step - loss: 5.5457 - val_loss: 6.1287\n",
      "Epoch 98/100\n",
      "355/355 [==============================] - 6s 17ms/step - loss: 5.5453 - val_loss: 6.1088\n",
      "Epoch 99/100\n",
      "355/355 [==============================] - 7s 20ms/step - loss: 5.5340 - val_loss: 6.2017\n",
      "Epoch 100/100\n",
      "355/355 [==============================] - 7s 18ms/step - loss: 5.5416 - val_loss: 6.1441\n"
     ]
    }
   ],
   "source": [
    "history = model.fit(\n",
    "    X_train, y_train,\n",
    "    epochs=100,\n",
    "    batch_size=32,\n",
    "    validation_split=0.1,\n",
    "    shuffle=False\n",
    ")"
   ]
  },
  {
   "cell_type": "code",
   "execution_count": 76,
   "metadata": {
    "colab": {
     "base_uri": "https://localhost:8080/",
     "height": 268
    },
    "colab_type": "code",
    "id": "hffZBZ-eiKOc",
    "outputId": "c5fbc9ae-ccfc-4814-8476-84e3aaae63b2"
   },
   "outputs": [
    {
     "data": {
      "image/png": "[encoded data removed]",
      "text/plain": [
       "<Figure size 432x288 with 1 Axes>"
      ]
     },
     "metadata": {
      "needs_background": "light"
     },
     "output_type": "display_data"
    }
   ],
   "source": [
    "plt.plot(history.history['loss'], label='train')\n",
    "plt.plot(history.history['val_loss'], label='test')\n",
    "plt.legend();"
   ]
  },
  {
   "cell_type": "code",
   "execution_count": 77,
   "metadata": {
    "colab": {
     "base_uri": "https://localhost:8080/",
     "height": 287
    },
    "colab_type": "code",
    "id": "HjKA-hJto0mQ",
    "outputId": "5b086b46-58dd-4062-f6e3-b56d57636b7a"
   },
   "outputs": [
    {
     "name": "stdout",
     "output_type": "stream",
     "text": [
      "Reconstruction error threshold:  120.08054555257162\n"
     ]
    },
    {
     "data": {
      "image/png": "[encoded data removed]",
      "text/plain": [
       "<Figure size 432x288 with 1 Axes>"
      ]
     },
     "metadata": {
      "needs_background": "light"
     },
     "output_type": "display_data"
    }
   ],
   "source": [
    "X_train_pred = model.predict(X_train)\n",
    "train_mae_loss = np.mean(np.abs(X_train_pred - X_train), axis=1)\n",
    "sns.distplot(train_mae_loss, bins=10, kde=True);\n",
    "\n",
    "# Get reconstruction loss threshold.\n",
    "threshold = np.max(train_mae_loss)\n",
    "print(\"Reconstruction error threshold: \", threshold)"
   ]
  },
  {
   "cell_type": "code",
   "execution_count": 78,
   "metadata": {
    "colab": {
     "base_uri": "https://localhost:8080/",
     "height": 285
    },
    "colab_type": "code",
    "id": "BptZ0N7xpOxQ",
    "outputId": "a9a3dc5d-d8f1-4ef2-856a-d6f5e207c33d"
   },
   "outputs": [
    {
     "name": "stdout",
     "output_type": "stream",
     "text": [
      "Reconstruction error threshold:  76.84957071940104\n"
     ]
    },
    {
     "data": {
      "image/png": "[encoded data removed]",
      "text/plain": [
       "<Figure size 432x288 with 1 Axes>"
      ]
     },
     "metadata": {
      "needs_background": "light"
     },
     "output_type": "display_data"
    }
   ],
   "source": [
    "X_test_pred = model.predict(X_test)\n",
    "test_mae_loss = np.mean(np.abs(X_test_pred - X_test), axis=1)\n",
    "sns.distplot(test_mae_loss, bins=10, kde=True);\n",
    "\n",
    "# Get reconstruction loss threshold.\n",
    "threshold = np.max(test_mae_loss)\n",
    "print(\"Reconstruction error threshold: \", threshold)"
   ]
  },
  {
   "cell_type": "code",
   "execution_count": 79,
   "metadata": {
    "colab": {
     "base_uri": "https://localhost:8080/",
     "height": 316
    },
    "colab_type": "code",
    "id": "aHk9ZZ8RsL5A",
    "outputId": "1be35dff-e03f-4ff3-ab81-48d67adc575e"
   },
   "outputs": [
    {
     "data": {
      "image/png": "[encoded data removed]",
      "text/plain": [
       "<Figure size 432x288 with 1 Axes>"
      ]
     },
     "metadata": {
      "needs_background": "light"
     },
     "output_type": "display_data"
    }
   ],
   "source": [
    "test_score_df = pd.DataFrame(index=dataset_test[TIME_STEPS:].index)\n",
    "test_score_df['loss'] = test_mae_loss\n",
    "test_score_df['threshold'] = threshold\n",
    "test_score_df['anomaly'] = test_score_df.loss > test_score_df.threshold\n",
    "test_score_df['value'] = dataset_test[TIME_STEPS:].value\n",
    "\n",
    "plt.plot(test_score_df.index, test_score_df.loss, label='loss')\n",
    "plt.plot(test_score_df.index, test_score_df.threshold, label='threshold')\n",
    "plt.xticks(rotation=25)\n",
    "plt.legend();"
   ]
  },
  {
   "cell_type": "code",
   "execution_count": 80,
   "metadata": {
    "colab": {
     "base_uri": "https://localhost:8080/",
     "height": 235
    },
    "colab_type": "code",
    "id": "WuNq9B14uGPq",
    "outputId": "6df0bfd4-4827-448b-c5cf-86a626f4022c"
   },
   "outputs": [
    {
     "data": {
      "text/html": [
       "<div>\n",
       "<style scoped>\n",
       "    .dataframe tbody tr th:only-of-type {\n",
       "        vertical-align: middle;\n",
       "    }\n",
       "\n",
       "    .dataframe tbody tr th {\n",
       "        vertical-align: top;\n",
       "    }\n",
       "\n",
       "    .dataframe thead th {\n",
       "        text-align: right;\n",
       "    }\n",
       "</style>\n",
       "<table border=\"1\" class=\"dataframe\">\n",
       "  <thead>\n",
       "    <tr style=\"text-align: right;\">\n",
       "      <th></th>\n",
       "      <th>loss</th>\n",
       "      <th>threshold</th>\n",
       "      <th>anomaly</th>\n",
       "      <th>value</th>\n",
       "    </tr>\n",
       "    <tr>\n",
       "      <th>timestamp</th>\n",
       "      <th></th>\n",
       "      <th></th>\n",
       "      <th></th>\n",
       "      <th></th>\n",
       "    </tr>\n",
       "  </thead>\n",
       "  <tbody>\n",
       "    <tr>\n",
       "      <th>2015-02-27 08:37:53</th>\n",
       "      <td>15.853208</td>\n",
       "      <td>76.849571</td>\n",
       "      <td>False</td>\n",
       "      <td>8</td>\n",
       "    </tr>\n",
       "    <tr>\n",
       "      <th>2015-02-27 09:32:53</th>\n",
       "      <td>15.162378</td>\n",
       "      <td>76.849571</td>\n",
       "      <td>False</td>\n",
       "      <td>16</td>\n",
       "    </tr>\n",
       "    <tr>\n",
       "      <th>2015-02-27 09:37:53</th>\n",
       "      <td>13.134840</td>\n",
       "      <td>76.849571</td>\n",
       "      <td>False</td>\n",
       "      <td>10</td>\n",
       "    </tr>\n",
       "    <tr>\n",
       "      <th>2015-02-27 09:42:53</th>\n",
       "      <td>13.514755</td>\n",
       "      <td>76.849571</td>\n",
       "      <td>False</td>\n",
       "      <td>8</td>\n",
       "    </tr>\n",
       "    <tr>\n",
       "      <th>2015-02-27 10:27:53</th>\n",
       "      <td>13.224740</td>\n",
       "      <td>76.849571</td>\n",
       "      <td>False</td>\n",
       "      <td>11</td>\n",
       "    </tr>\n",
       "  </tbody>\n",
       "</table>\n",
       "</div>"
      ],
      "text/plain": [
       "                          loss  threshold  anomaly  value\n",
       "timestamp                                                \n",
       "2015-02-27 08:37:53  15.853208  76.849571    False      8\n",
       "2015-02-27 09:32:53  15.162378  76.849571    False     16\n",
       "2015-02-27 09:37:53  13.134840  76.849571    False     10\n",
       "2015-02-27 09:42:53  13.514755  76.849571    False      8\n",
       "2015-02-27 10:27:53  13.224740  76.849571    False     11"
      ]
     },
     "execution_count": 80,
     "metadata": {},
     "output_type": "execute_result"
    }
   ],
   "source": [
    "test_score_df.head()"
   ]
  },
  {
   "cell_type": "markdown",
   "metadata": {},
   "source": [
    "## Previously used models for conv1d model"
   ]
  },
  {
   "cell_type": "markdown",
   "metadata": {},
   "source": [
    "#### Adam optimizer. Learning rate = .01. Batch = 64"
   ]
  },
  {
   "cell_type": "code",
   "execution_count": 81,
   "metadata": {},
   "outputs": [
    {
     "name": "stdout",
     "output_type": "stream",
     "text": [
      "Model: \"sequential_3\"\n",
      "_________________________________________________________________\n",
      "Layer (type)                 Output Shape              Param #   \n",
      "=================================================================\n",
      "conv1d_2 (Conv1D)            (None, 144, 32)           256       \n",
      "_________________________________________________________________\n",
      "dropout_4 (Dropout)          (None, 144, 32)           0         \n",
      "_________________________________________________________________\n",
      "conv1d_3 (Conv1D)            (None, 72, 16)            3600      \n",
      "_________________________________________________________________\n",
      "conv1d_transpose_3 (Conv1DTr (None, 144, 16)           1808      \n",
      "_________________________________________________________________\n",
      "dropout_5 (Dropout)          (None, 144, 16)           0         \n",
      "_________________________________________________________________\n",
      "conv1d_transpose_4 (Conv1DTr (None, 288, 32)           3616      \n",
      "_________________________________________________________________\n",
      "conv1d_transpose_5 (Conv1DTr (None, 288, 1)            225       \n",
      "=================================================================\n",
      "Total params: 9,505\n",
      "Trainable params: 9,505\n",
      "Non-trainable params: 0\n",
      "_________________________________________________________________\n"
     ]
    }
   ],
   "source": [
    "model_v1 = Sequential(\n",
    "    [\n",
    "        layers.Input(shape=(x_train.shape[1], x_train.shape[2])),\n",
    "        layers.Conv1D(\n",
    "            filters=32, kernel_size=7, padding=\"same\", strides=2, activation=\"relu\"\n",
    "        ),\n",
    "        layers.Dropout(rate=0.2),\n",
    "        layers.Conv1D(\n",
    "            filters=16, kernel_size=7, padding=\"same\", strides=2, activation=\"relu\"\n",
    "        ),\n",
    "        layers.Conv1DTranspose(\n",
    "            filters=16, kernel_size=7, padding=\"same\", strides=2, activation=\"relu\"\n",
    "        ),\n",
    "        layers.Dropout(rate=0.2),\n",
    "        layers.Conv1DTranspose(\n",
    "            filters=32, kernel_size=7, padding=\"same\", strides=2, activation=\"relu\"\n",
    "        ),\n",
    "        layers.Conv1DTranspose(filters=1, kernel_size=7, padding=\"same\"),\n",
    "    ]\n",
    ")\n",
    "model_v1.compile(optimizer=optimizers.Adam(learning_rate=0.01), loss=\"mse\")\n",
    "model_v1.summary()"
   ]
  },
  {
   "cell_type": "code",
   "execution_count": 82,
   "metadata": {},
   "outputs": [
    {
     "name": "stdout",
     "output_type": "stream",
     "text": [
      "Epoch 1/100\n",
      "175/175 [==============================] - 6s 33ms/step - loss: 0.2417 - val_loss: 0.0312\n",
      "Epoch 2/100\n",
      "175/175 [==============================] - 5s 29ms/step - loss: 0.0604 - val_loss: 0.0254\n",
      "Epoch 3/100\n",
      "175/175 [==============================] - 5s 30ms/step - loss: 0.0445 - val_loss: 0.0301\n",
      "Epoch 4/100\n",
      "175/175 [==============================] - 5s 29ms/step - loss: 0.0394 - val_loss: 0.0228\n",
      "Epoch 5/100\n",
      "175/175 [==============================] - 6s 32ms/step - loss: 0.0333 - val_loss: 0.0318\n",
      "Epoch 6/100\n",
      "175/175 [==============================] - 5s 29ms/step - loss: 0.0305 - val_loss: 0.0283\n",
      "Epoch 7/100\n",
      "175/175 [==============================] - 5s 29ms/step - loss: 0.0299 - val_loss: 0.0202\n",
      "Epoch 8/100\n",
      "175/175 [==============================] - 6s 31ms/step - loss: 0.0298 - val_loss: 0.0452\n",
      "Epoch 9/100\n",
      "175/175 [==============================] - 5s 28ms/step - loss: 0.0275 - val_loss: 0.0226\n",
      "Epoch 10/100\n",
      "175/175 [==============================] - 6s 34ms/step - loss: 0.0268 - val_loss: 0.0485\n",
      "Epoch 11/100\n",
      "175/175 [==============================] - 6s 32ms/step - loss: 0.0253 - val_loss: 0.0446\n",
      "Epoch 12/100\n",
      "175/175 [==============================] - 5s 29ms/step - loss: 0.0244 - val_loss: 0.0247\n",
      "Epoch 13/100\n",
      "175/175 [==============================] - 5s 29ms/step - loss: 0.0239 - val_loss: 0.0275\n",
      "Epoch 14/100\n",
      "175/175 [==============================] - 5s 29ms/step - loss: 0.0229 - val_loss: 0.0339\n",
      "Epoch 15/100\n",
      "175/175 [==============================] - 5s 30ms/step - loss: 0.0246 - val_loss: 0.0404\n",
      "Epoch 16/100\n",
      "175/175 [==============================] - 5s 31ms/step - loss: 0.0219 - val_loss: 0.0596\n",
      "Epoch 17/100\n",
      "175/175 [==============================] - 5s 29ms/step - loss: 0.0237 - val_loss: 0.0201\n",
      "Epoch 18/100\n",
      "175/175 [==============================] - 5s 30ms/step - loss: 0.0247 - val_loss: 0.0349\n",
      "Epoch 19/100\n",
      "175/175 [==============================] - 5s 30ms/step - loss: 0.0222 - val_loss: 0.0273\n",
      "Epoch 20/100\n",
      "175/175 [==============================] - 5s 31ms/step - loss: 0.0209 - val_loss: 0.0332\n",
      "Epoch 21/100\n",
      "175/175 [==============================] - 6s 32ms/step - loss: 0.0224 - val_loss: 0.0359\n",
      "Epoch 22/100\n",
      "175/175 [==============================] - 5s 29ms/step - loss: 0.0257 - val_loss: 0.0446\n",
      "Epoch 23/100\n",
      "175/175 [==============================] - 5s 28ms/step - loss: 0.0214 - val_loss: 0.0460\n",
      "Epoch 24/100\n",
      "175/175 [==============================] - 5s 31ms/step - loss: 0.0197 - val_loss: 0.0455\n",
      "Epoch 25/100\n",
      "175/175 [==============================] - 5s 28ms/step - loss: 0.0201 - val_loss: 0.0244\n",
      "Epoch 26/100\n",
      "175/175 [==============================] - 6s 33ms/step - loss: 0.0218 - val_loss: 0.0339\n",
      "Epoch 27/100\n",
      "175/175 [==============================] - 6s 33ms/step - loss: 0.0212 - val_loss: 0.0438\n",
      "Epoch 28/100\n",
      "175/175 [==============================] - 5s 28ms/step - loss: 0.0209 - val_loss: 0.0399\n",
      "Epoch 29/100\n",
      "175/175 [==============================] - 5s 28ms/step - loss: 0.0188 - val_loss: 0.0446\n",
      "Epoch 30/100\n",
      "175/175 [==============================] - 5s 28ms/step - loss: 0.0216 - val_loss: 0.0326\n",
      "Epoch 31/100\n",
      "175/175 [==============================] - 5s 30ms/step - loss: 0.0187 - val_loss: 0.0379\n",
      "Epoch 32/100\n",
      "175/175 [==============================] - 5s 31ms/step - loss: 0.0195 - val_loss: 0.0371\n",
      "Epoch 33/100\n",
      "175/175 [==============================] - 6s 34ms/step - loss: 0.0185 - val_loss: 0.0312\n",
      "Epoch 34/100\n",
      "175/175 [==============================] - 5s 31ms/step - loss: 0.0176 - val_loss: 0.0368\n",
      "Epoch 35/100\n",
      "175/175 [==============================] - 6s 33ms/step - loss: 0.0198 - val_loss: 0.0358\n",
      "Epoch 36/100\n",
      "175/175 [==============================] - 5s 31ms/step - loss: 0.0223 - val_loss: 0.0616\n",
      "Epoch 37/100\n",
      "175/175 [==============================] - 6s 32ms/step - loss: 0.0232 - val_loss: 0.0273\n",
      "Epoch 38/100\n",
      "175/175 [==============================] - 6s 36ms/step - loss: 0.0176 - val_loss: 0.0318\n",
      "Epoch 39/100\n",
      "175/175 [==============================] - 7s 37ms/step - loss: 0.0179 - val_loss: 0.0416\n",
      "Epoch 40/100\n",
      "175/175 [==============================] - 7s 38ms/step - loss: 0.0190 - val_loss: 0.0449\n",
      "Epoch 41/100\n",
      "175/175 [==============================] - 7s 40ms/step - loss: 0.0207 - val_loss: 0.0287\n",
      "Epoch 42/100\n",
      "175/175 [==============================] - 7s 40ms/step - loss: 0.0196 - val_loss: 0.0416\n",
      "Epoch 43/100\n",
      "175/175 [==============================] - 7s 41ms/step - loss: 0.0228 - val_loss: 0.0320\n",
      "Epoch 44/100\n",
      "175/175 [==============================] - 7s 41ms/step - loss: 0.0187 - val_loss: 0.0427\n",
      "Epoch 45/100\n",
      "175/175 [==============================] - 7s 42ms/step - loss: 0.0191 - val_loss: 0.0449\n",
      "Epoch 46/100\n",
      "175/175 [==============================] - 7s 41ms/step - loss: 0.0194 - val_loss: 0.0394\n",
      "Epoch 47/100\n",
      "175/175 [==============================] - 7s 43ms/step - loss: 0.0177 - val_loss: 0.0376\n",
      "Epoch 48/100\n",
      "175/175 [==============================] - 7s 43ms/step - loss: 0.0195 - val_loss: 0.0365\n",
      "Epoch 49/100\n",
      "175/175 [==============================] - 7s 43ms/step - loss: 0.0181 - val_loss: 0.0395\n",
      "Epoch 50/100\n",
      "175/175 [==============================] - 7s 42ms/step - loss: 0.0199 - val_loss: 0.0323\n",
      "Epoch 51/100\n",
      "175/175 [==============================] - 7s 43ms/step - loss: 0.0175 - val_loss: 0.0381\n",
      "Epoch 52/100\n",
      "175/175 [==============================] - 8s 43ms/step - loss: 0.0172 - val_loss: 0.0374\n",
      "Epoch 53/100\n",
      "175/175 [==============================] - 7s 43ms/step - loss: 0.0175 - val_loss: 0.0330\n",
      "Epoch 54/100\n",
      "175/175 [==============================] - 7s 42ms/step - loss: 0.0200 - val_loss: 0.0402\n",
      "Epoch 55/100\n",
      "175/175 [==============================] - 7s 43ms/step - loss: 0.0187 - val_loss: 0.0361\n",
      "Epoch 56/100\n",
      "175/175 [==============================] - 7s 42ms/step - loss: 0.0167 - val_loss: 0.0306\n",
      "Epoch 57/100\n",
      "175/175 [==============================] - 7s 39ms/step - loss: 0.0188 - val_loss: 0.0290\n",
      "Epoch 58/100\n",
      "175/175 [==============================] - 7s 41ms/step - loss: 0.0162 - val_loss: 0.0349\n",
      "Epoch 59/100\n",
      "175/175 [==============================] - 7s 42ms/step - loss: 0.0168 - val_loss: 0.0319\n",
      "Epoch 60/100\n",
      "175/175 [==============================] - 7s 43ms/step - loss: 0.0171 - val_loss: 0.0347\n",
      "Epoch 61/100\n",
      "175/175 [==============================] - 7s 43ms/step - loss: 0.0171 - val_loss: 0.0375\n",
      "Epoch 62/100\n",
      "175/175 [==============================] - 7s 42ms/step - loss: 0.0185 - val_loss: 0.0310\n",
      "Epoch 63/100\n",
      "175/175 [==============================] - 7s 42ms/step - loss: 0.0164 - val_loss: 0.0416\n",
      "Epoch 64/100\n",
      "175/175 [==============================] - 7s 41ms/step - loss: 0.0173 - val_loss: 0.0303\n",
      "Epoch 65/100\n",
      "175/175 [==============================] - 6s 37ms/step - loss: 0.0175 - val_loss: 0.0327\n",
      "Epoch 66/100\n",
      "175/175 [==============================] - 6s 35ms/step - loss: 0.0174 - val_loss: 0.0260\n",
      "Epoch 67/100\n",
      "175/175 [==============================] - 6s 35ms/step - loss: 0.0157 - val_loss: 0.0353\n",
      "Epoch 68/100\n",
      "175/175 [==============================] - 6s 37ms/step - loss: 0.0199 - val_loss: 0.0338\n",
      "Epoch 69/100\n",
      "175/175 [==============================] - 7s 39ms/step - loss: 0.0166 - val_loss: 0.0413\n",
      "Epoch 70/100\n",
      "175/175 [==============================] - 7s 41ms/step - loss: 0.0160 - val_loss: 0.0516\n",
      "Epoch 71/100\n",
      "175/175 [==============================] - 7s 41ms/step - loss: 0.0176 - val_loss: 0.0702\n",
      "Epoch 72/100\n",
      "175/175 [==============================] - 7s 42ms/step - loss: 0.0199 - val_loss: 0.0440\n",
      "Epoch 73/100\n",
      "175/175 [==============================] - 7s 40ms/step - loss: 0.0155 - val_loss: 0.0527\n",
      "Epoch 74/100\n",
      "175/175 [==============================] - 7s 39ms/step - loss: 0.0157 - val_loss: 0.0490\n",
      "Epoch 75/100\n",
      "175/175 [==============================] - 7s 42ms/step - loss: 0.0154 - val_loss: 0.0467\n",
      "Epoch 76/100\n",
      "175/175 [==============================] - 7s 41ms/step - loss: 0.0148 - val_loss: 0.0459\n",
      "Epoch 77/100\n",
      "175/175 [==============================] - 7s 40ms/step - loss: 0.0164 - val_loss: 0.0485\n",
      "Epoch 78/100\n",
      "175/175 [==============================] - 7s 40ms/step - loss: 0.0236 - val_loss: 0.0473\n",
      "Epoch 79/100\n",
      "175/175 [==============================] - 7s 39ms/step - loss: 0.0166 - val_loss: 0.0531\n",
      "Epoch 80/100\n",
      "175/175 [==============================] - 7s 40ms/step - loss: 0.0153 - val_loss: 0.0637\n",
      "Epoch 81/100\n",
      "175/175 [==============================] - 7s 38ms/step - loss: 0.0146 - val_loss: 0.0495\n",
      "Epoch 82/100\n",
      "175/175 [==============================] - 7s 40ms/step - loss: 0.0147 - val_loss: 0.0589\n",
      "Epoch 83/100\n",
      "175/175 [==============================] - 7s 39ms/step - loss: 0.0152 - val_loss: 0.0440\n",
      "Epoch 84/100\n",
      "175/175 [==============================] - 7s 39ms/step - loss: 0.0139 - val_loss: 0.0468\n",
      "Epoch 85/100\n",
      "175/175 [==============================] - 7s 39ms/step - loss: 0.0138 - val_loss: 0.0513\n",
      "Epoch 86/100\n",
      "175/175 [==============================] - 7s 38ms/step - loss: 0.0159 - val_loss: 0.0469\n",
      "Epoch 87/100\n",
      "175/175 [==============================] - 7s 40ms/step - loss: 0.0187 - val_loss: 0.0624\n",
      "Epoch 88/100\n",
      "175/175 [==============================] - 7s 39ms/step - loss: 0.0167 - val_loss: 0.0573\n",
      "Epoch 89/100\n",
      "175/175 [==============================] - 7s 41ms/step - loss: 0.0146 - val_loss: 0.0465\n",
      "Epoch 90/100\n",
      "175/175 [==============================] - 6s 37ms/step - loss: 0.0129 - val_loss: 0.0447\n",
      "Epoch 91/100\n",
      "175/175 [==============================] - 7s 41ms/step - loss: 0.0146 - val_loss: 0.0492\n",
      "Epoch 92/100\n",
      "175/175 [==============================] - 10s 56ms/step - loss: 0.0144 - val_loss: 0.0500\n",
      "Epoch 93/100\n",
      "175/175 [==============================] - 9s 51ms/step - loss: 0.0136 - val_loss: 0.0542\n",
      "Epoch 94/100\n",
      "175/175 [==============================] - 8s 46ms/step - loss: 0.0144 - val_loss: 0.0595\n",
      "Epoch 95/100\n",
      "175/175 [==============================] - 8s 45ms/step - loss: 0.0203 - val_loss: 0.0765\n",
      "Epoch 96/100\n",
      "175/175 [==============================] - 8s 47ms/step - loss: 0.0190 - val_loss: 0.0656\n",
      "Epoch 97/100\n",
      "175/175 [==============================] - 8s 46ms/step - loss: 0.0147 - val_loss: 0.0588\n",
      "Epoch 98/100\n",
      "175/175 [==============================] - 9s 50ms/step - loss: 0.0178 - val_loss: 0.0486\n",
      "Epoch 99/100\n",
      "175/175 [==============================] - 9s 49ms/step - loss: 0.0137 - val_loss: 0.0545\n",
      "Epoch 100/100\n",
      "175/175 [==============================] - 8s 48ms/step - loss: 0.0210 - val_loss: 0.0468\n"
     ]
    }
   ],
   "source": [
    "history=model_v1.fit(np.array(x_train),np.array(x_train),\n",
    "                  batch_size=64, \n",
    "                  epochs=100,\n",
    "                  validation_split=0.1,\n",
    "                  verbose = 1)"
   ]
  },
  {
   "cell_type": "markdown",
   "metadata": {},
   "source": [
    "### SGD optimizer, lr = .001, batch = 32 "
   ]
  },
  {
   "cell_type": "code",
   "execution_count": 84,
   "metadata": {},
   "outputs": [],
   "source": [
    "from tensorflow.keras.optimizers import SGD\n",
    "opt = SGD(lr=0.001, momentum=0.9)\n"
   ]
  },
  {
   "cell_type": "code",
   "execution_count": 85,
   "metadata": {},
   "outputs": [
    {
     "name": "stdout",
     "output_type": "stream",
     "text": [
      "Model: \"sequential_4\"\n",
      "_________________________________________________________________\n",
      "Layer (type)                 Output Shape              Param #   \n",
      "=================================================================\n",
      "conv1d_4 (Conv1D)            (None, 144, 32)           256       \n",
      "_________________________________________________________________\n",
      "dropout_6 (Dropout)          (None, 144, 32)           0         \n",
      "_________________________________________________________________\n",
      "conv1d_5 (Conv1D)            (None, 72, 16)            3600      \n",
      "_________________________________________________________________\n",
      "conv1d_transpose_6 (Conv1DTr (None, 144, 16)           1808      \n",
      "_________________________________________________________________\n",
      "dropout_7 (Dropout)          (None, 144, 16)           0         \n",
      "_________________________________________________________________\n",
      "conv1d_transpose_7 (Conv1DTr (None, 288, 32)           3616      \n",
      "_________________________________________________________________\n",
      "conv1d_transpose_8 (Conv1DTr (None, 288, 1)            225       \n",
      "=================================================================\n",
      "Total params: 9,505\n",
      "Trainable params: 9,505\n",
      "Non-trainable params: 0\n",
      "_________________________________________________________________\n"
     ]
    }
   ],
   "source": [
    "model_v2 = Sequential(\n",
    "    [\n",
    "        layers.Input(shape=(x_train.shape[1], x_train.shape[2])),\n",
    "        layers.Conv1D(\n",
    "            filters=32, kernel_size=7, padding=\"same\", strides=2, activation=\"relu\"\n",
    "        ),\n",
    "        layers.Dropout(rate=0.2),\n",
    "        layers.Conv1D(\n",
    "            filters=16, kernel_size=7, padding=\"same\", strides=2, activation=\"relu\"\n",
    "        ),\n",
    "        layers.Conv1DTranspose(\n",
    "            filters=16, kernel_size=7, padding=\"same\", strides=2, activation=\"relu\"\n",
    "        ),\n",
    "        layers.Dropout(rate=0.2),\n",
    "        layers.Conv1DTranspose(\n",
    "            filters=32, kernel_size=7, padding=\"same\", strides=2, activation=\"relu\"\n",
    "        ),\n",
    "        layers.Conv1DTranspose(filters=1, kernel_size=7, padding=\"same\"),\n",
    "    ]\n",
    ")\n",
    "model_v2.compile(optimizer=opt, loss=\"mse\")\n",
    "model_v2.summary()"
   ]
  },
  {
   "cell_type": "code",
   "execution_count": 86,
   "metadata": {},
   "outputs": [
    {
     "name": "stdout",
     "output_type": "stream",
     "text": [
      "Epoch 1/100\n",
      "349/349 [==============================] - 7s 19ms/step - loss: 0.6159 - val_loss: 0.2458\n",
      "Epoch 2/100\n",
      "349/349 [==============================] - 7s 20ms/step - loss: 0.4276 - val_loss: 0.1770\n",
      "Epoch 3/100\n",
      "349/349 [==============================] - 7s 19ms/step - loss: 0.3501 - val_loss: 0.1243\n",
      "Epoch 4/100\n",
      "349/349 [==============================] - 7s 19ms/step - loss: 0.2807 - val_loss: 0.0940\n",
      "Epoch 5/100\n",
      "349/349 [==============================] - 7s 19ms/step - loss: 0.2215 - val_loss: 0.0677\n",
      "Epoch 6/100\n",
      "349/349 [==============================] - 6s 17ms/step - loss: 0.1640 - val_loss: 0.0473\n",
      "Epoch 7/100\n",
      "349/349 [==============================] - 6s 18ms/step - loss: 0.1325 - val_loss: 0.0394\n",
      "Epoch 8/100\n",
      "349/349 [==============================] - 7s 20ms/step - loss: 0.1193 - val_loss: 0.0367\n",
      "Epoch 9/100\n",
      "349/349 [==============================] - 7s 19ms/step - loss: 0.1106 - val_loss: 0.0340\n",
      "Epoch 10/100\n",
      "349/349 [==============================] - 7s 20ms/step - loss: 0.1062 - val_loss: 0.0325\n",
      "Epoch 11/100\n",
      "349/349 [==============================] - 7s 20ms/step - loss: 0.1018 - val_loss: 0.0311\n",
      "Epoch 12/100\n",
      "349/349 [==============================] - 7s 19ms/step - loss: 0.0969 - val_loss: 0.0303\n",
      "Epoch 13/100\n",
      "349/349 [==============================] - 7s 20ms/step - loss: 0.0948 - val_loss: 0.0296\n",
      "Epoch 14/100\n",
      "349/349 [==============================] - 7s 19ms/step - loss: 0.0916 - val_loss: 0.0289\n",
      "Epoch 15/100\n",
      "349/349 [==============================] - 7s 20ms/step - loss: 0.0893 - val_loss: 0.0278\n",
      "Epoch 16/100\n",
      "349/349 [==============================] - 7s 19ms/step - loss: 0.0871 - val_loss: 0.0278\n",
      "Epoch 17/100\n",
      "349/349 [==============================] - 7s 21ms/step - loss: 0.0863 - val_loss: 0.0273\n",
      "Epoch 18/100\n",
      "349/349 [==============================] - 8s 23ms/step - loss: 0.0836 - val_loss: 0.0267\n",
      "Epoch 19/100\n",
      "349/349 [==============================] - 9s 25ms/step - loss: 0.0818 - val_loss: 0.0266\n",
      "Epoch 20/100\n",
      "349/349 [==============================] - 9s 26ms/step - loss: 0.0802 - val_loss: 0.0264\n",
      "Epoch 21/100\n",
      "349/349 [==============================] - 10s 27ms/step - loss: 0.0790 - val_loss: 0.0264\n",
      "Epoch 22/100\n",
      "349/349 [==============================] - 9s 27ms/step - loss: 0.0776 - val_loss: 0.0261\n",
      "Epoch 23/100\n",
      "349/349 [==============================] - 9s 27ms/step - loss: 0.0759 - val_loss: 0.0264\n",
      "Epoch 24/100\n",
      "349/349 [==============================] - 9s 27ms/step - loss: 0.0739 - val_loss: 0.0251\n",
      "Epoch 25/100\n",
      "349/349 [==============================] - 10s 27ms/step - loss: 0.0742 - val_loss: 0.0258\n",
      "Epoch 26/100\n",
      "349/349 [==============================] - 10s 28ms/step - loss: 0.0719 - val_loss: 0.0254\n",
      "Epoch 27/100\n",
      "349/349 [==============================] - 10s 27ms/step - loss: 0.0719 - val_loss: 0.0247\n",
      "Epoch 28/100\n",
      "349/349 [==============================] - 10s 28ms/step - loss: 0.0705 - val_loss: 0.0250\n",
      "Epoch 29/100\n",
      "349/349 [==============================] - 10s 29ms/step - loss: 0.0681 - val_loss: 0.0259\n",
      "Epoch 30/100\n",
      "349/349 [==============================] - 10s 27ms/step - loss: 0.0681 - val_loss: 0.0263\n",
      "Epoch 31/100\n",
      "349/349 [==============================] - 9s 25ms/step - loss: 0.0667 - val_loss: 0.0275\n",
      "Epoch 32/100\n",
      "349/349 [==============================] - 9s 25ms/step - loss: 0.0651 - val_loss: 0.0263\n",
      "Epoch 33/100\n",
      "349/349 [==============================] - 8s 24ms/step - loss: 0.0659 - val_loss: 0.0260\n",
      "Epoch 34/100\n",
      "349/349 [==============================] - 9s 24ms/step - loss: 0.0641 - val_loss: 0.0262\n",
      "Epoch 35/100\n",
      "349/349 [==============================] - 9s 24ms/step - loss: 0.0637 - val_loss: 0.0274\n",
      "Epoch 36/100\n",
      "349/349 [==============================] - 8s 24ms/step - loss: 0.0629 - val_loss: 0.0268\n",
      "Epoch 37/100\n",
      "349/349 [==============================] - 9s 25ms/step - loss: 0.0616 - val_loss: 0.0274\n",
      "Epoch 38/100\n",
      "349/349 [==============================] - 7s 20ms/step - loss: 0.0610 - val_loss: 0.0277\n",
      "Epoch 39/100\n",
      "349/349 [==============================] - 7s 19ms/step - loss: 0.0605 - val_loss: 0.0272\n",
      "Epoch 40/100\n",
      "349/349 [==============================] - 7s 20ms/step - loss: 0.0597 - val_loss: 0.0271\n",
      "Epoch 41/100\n",
      "349/349 [==============================] - 8s 22ms/step - loss: 0.0598 - val_loss: 0.0290\n",
      "Epoch 42/100\n",
      "349/349 [==============================] - 8s 23ms/step - loss: 0.0578 - val_loss: 0.0276\n",
      "Epoch 43/100\n",
      "349/349 [==============================] - 7s 20ms/step - loss: 0.0579 - val_loss: 0.0275\n",
      "Epoch 44/100\n",
      "349/349 [==============================] - 7s 20ms/step - loss: 0.0580 - val_loss: 0.0258\n",
      "Epoch 45/100\n",
      "349/349 [==============================] - 8s 22ms/step - loss: 0.0567 - val_loss: 0.0275\n",
      "Epoch 46/100\n",
      "349/349 [==============================] - 7s 21ms/step - loss: 0.0563 - val_loss: 0.0300\n",
      "Epoch 47/100\n",
      "349/349 [==============================] - 8s 22ms/step - loss: 0.0562 - val_loss: 0.0294\n",
      "Epoch 48/100\n",
      "349/349 [==============================] - 8s 22ms/step - loss: 0.0552 - val_loss: 0.0272\n",
      "Epoch 49/100\n",
      "349/349 [==============================] - 8s 23ms/step - loss: 0.0539 - val_loss: 0.0293\n",
      "Epoch 50/100\n",
      "349/349 [==============================] - 8s 22ms/step - loss: 0.0544 - val_loss: 0.0289\n",
      "Epoch 51/100\n",
      "349/349 [==============================] - 8s 22ms/step - loss: 0.0530 - val_loss: 0.0301\n",
      "Epoch 52/100\n",
      "349/349 [==============================] - 7s 21ms/step - loss: 0.0535 - val_loss: 0.0282\n",
      "Epoch 53/100\n",
      "349/349 [==============================] - 8s 22ms/step - loss: 0.0534 - val_loss: 0.0286\n",
      "Epoch 54/100\n",
      "349/349 [==============================] - 8s 22ms/step - loss: 0.0528 - val_loss: 0.0278\n",
      "Epoch 55/100\n",
      "349/349 [==============================] - 8s 22ms/step - loss: 0.0511 - val_loss: 0.0306\n",
      "Epoch 56/100\n",
      "349/349 [==============================] - 7s 19ms/step - loss: 0.0513 - val_loss: 0.0280\n",
      "Epoch 57/100\n",
      "349/349 [==============================] - 8s 22ms/step - loss: 0.0518 - val_loss: 0.0283\n",
      "Epoch 58/100\n",
      "349/349 [==============================] - 7s 20ms/step - loss: 0.0508 - val_loss: 0.0294\n",
      "Epoch 59/100\n",
      "349/349 [==============================] - 6s 19ms/step - loss: 0.0514 - val_loss: 0.0298\n",
      "Epoch 60/100\n",
      "349/349 [==============================] - 6s 18ms/step - loss: 0.0500 - val_loss: 0.0295\n",
      "Epoch 61/100\n",
      "349/349 [==============================] - 6s 19ms/step - loss: 0.0492 - val_loss: 0.0311\n",
      "Epoch 62/100\n",
      "349/349 [==============================] - 7s 19ms/step - loss: 0.0496 - val_loss: 0.0288\n",
      "Epoch 63/100\n",
      "349/349 [==============================] - 6s 18ms/step - loss: 0.0484 - val_loss: 0.0308\n",
      "Epoch 64/100\n",
      "349/349 [==============================] - 7s 19ms/step - loss: 0.0490 - val_loss: 0.0306\n",
      "Epoch 65/100\n",
      "349/349 [==============================] - 7s 20ms/step - loss: 0.0477 - val_loss: 0.0299\n",
      "Epoch 66/100\n",
      "349/349 [==============================] - 8s 22ms/step - loss: 0.0476 - val_loss: 0.0302\n",
      "Epoch 67/100\n",
      "349/349 [==============================] - 7s 21ms/step - loss: 0.0478 - val_loss: 0.0311\n",
      "Epoch 68/100\n",
      "349/349 [==============================] - 7s 19ms/step - loss: 0.0472 - val_loss: 0.0309\n",
      "Epoch 69/100\n",
      "349/349 [==============================] - 7s 20ms/step - loss: 0.0468 - val_loss: 0.0287\n",
      "Epoch 70/100\n",
      "349/349 [==============================] - 7s 21ms/step - loss: 0.0473 - val_loss: 0.0292\n",
      "Epoch 71/100\n",
      "349/349 [==============================] - 7s 21ms/step - loss: 0.0464 - val_loss: 0.0316\n",
      "Epoch 72/100\n",
      "349/349 [==============================] - 8s 22ms/step - loss: 0.0463 - val_loss: 0.0304\n",
      "Epoch 73/100\n",
      "349/349 [==============================] - 7s 21ms/step - loss: 0.0459 - val_loss: 0.0305\n",
      "Epoch 74/100\n",
      "349/349 [==============================] - 8s 23ms/step - loss: 0.0448 - val_loss: 0.0311\n",
      "Epoch 75/100\n",
      "349/349 [==============================] - 8s 24ms/step - loss: 0.0457 - val_loss: 0.0297\n",
      "Epoch 76/100\n",
      "349/349 [==============================] - 7s 21ms/step - loss: 0.0455 - val_loss: 0.0306\n",
      "Epoch 77/100\n",
      "349/349 [==============================] - 7s 20ms/step - loss: 0.0453 - val_loss: 0.0291\n",
      "Epoch 78/100\n",
      "349/349 [==============================] - 8s 23ms/step - loss: 0.0447 - val_loss: 0.0300\n",
      "Epoch 79/100\n",
      "349/349 [==============================] - 8s 23ms/step - loss: 0.0444 - val_loss: 0.0309\n",
      "Epoch 80/100\n",
      "349/349 [==============================] - 8s 24ms/step - loss: 0.0441 - val_loss: 0.0292\n",
      "Epoch 81/100\n",
      "349/349 [==============================] - 8s 23ms/step - loss: 0.0437 - val_loss: 0.0292\n",
      "Epoch 82/100\n",
      "349/349 [==============================] - 8s 22ms/step - loss: 0.0439 - val_loss: 0.0311\n",
      "Epoch 83/100\n",
      "349/349 [==============================] - 7s 21ms/step - loss: 0.0436 - val_loss: 0.0304\n",
      "Epoch 84/100\n",
      "349/349 [==============================] - 7s 20ms/step - loss: 0.0436 - val_loss: 0.0309\n",
      "Epoch 85/100\n",
      "349/349 [==============================] - 7s 19ms/step - loss: 0.0433 - val_loss: 0.0305\n",
      "Epoch 86/100\n",
      "349/349 [==============================] - 6s 18ms/step - loss: 0.0427 - val_loss: 0.0313\n",
      "Epoch 87/100\n",
      "349/349 [==============================] - 6s 17ms/step - loss: 0.0423 - val_loss: 0.0306\n",
      "Epoch 88/100\n",
      "349/349 [==============================] - 6s 16ms/step - loss: 0.0434 - val_loss: 0.0297\n",
      "Epoch 89/100\n",
      "349/349 [==============================] - 6s 16ms/step - loss: 0.0421 - val_loss: 0.0325\n",
      "Epoch 90/100\n",
      "349/349 [==============================] - 5s 15ms/step - loss: 0.0420 - val_loss: 0.0313\n",
      "Epoch 91/100\n",
      "349/349 [==============================] - 5s 15ms/step - loss: 0.0416 - val_loss: 0.0308\n",
      "Epoch 92/100\n",
      "349/349 [==============================] - 5s 16ms/step - loss: 0.0414 - val_loss: 0.0316\n",
      "Epoch 93/100\n",
      "349/349 [==============================] - 7s 19ms/step - loss: 0.0417 - val_loss: 0.0322\n",
      "Epoch 94/100\n",
      "349/349 [==============================] - 6s 18ms/step - loss: 0.0417 - val_loss: 0.0308\n",
      "Epoch 95/100\n",
      "349/349 [==============================] - 7s 19ms/step - loss: 0.0414 - val_loss: 0.0321\n",
      "Epoch 96/100\n",
      "349/349 [==============================] - 7s 20ms/step - loss: 0.0409 - val_loss: 0.0297\n",
      "Epoch 97/100\n",
      "349/349 [==============================] - 7s 21ms/step - loss: 0.0409 - val_loss: 0.0316\n",
      "Epoch 98/100\n",
      "349/349 [==============================] - 7s 21ms/step - loss: 0.0408 - val_loss: 0.0330\n",
      "Epoch 99/100\n",
      "349/349 [==============================] - 7s 19ms/step - loss: 0.0405 - val_loss: 0.0290\n",
      "Epoch 100/100\n",
      "349/349 [==============================] - 7s 20ms/step - loss: 0.0409 - val_loss: 0.0298\n"
     ]
    }
   ],
   "source": [
    "history=model_v2.fit(np.array(x_train),np.array(x_train),\n",
    "                  batch_size=32, \n",
    "                  epochs=100,\n",
    "                  validation_split=0.1,\n",
    "                  verbose = 1)"
   ]
  },
  {
   "cell_type": "code",
   "execution_count": null,
   "metadata": {},
   "outputs": [],
   "source": []
  }
 ],
 "metadata": {
  "colab": {
   "name": "Untitled",
   "provenance": []
  },
  "kernelspec": {
   "display_name": "Python 3",
   "language": "python",
   "name": "python3"
  },
  "language_info": {
   "codemirror_mode": {
    "name": "ipython",
    "version": 3
   },
   "file_extension": ".py",
   "mimetype": "text/x-python",
   "name": "python",
   "nbconvert_exporter": "python",
   "pygments_lexer": "ipython3",
   "version": "3.7.6"
  }
 },
 "nbformat": 4,
 "nbformat_minor": 1
}
